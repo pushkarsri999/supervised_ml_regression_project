{
  "nbformat": 4,
  "nbformat_minor": 0,
  "metadata": {
    "colab": {
      "provenance": [],
      "collapsed_sections": [],
      "include_colab_link": true
    },
    "kernelspec": {
      "name": "python3",
      "display_name": "Python 3"
    },
    "language_info": {
      "name": "python"
    }
  },
  "cells": [
    {
      "cell_type": "markdown",
      "metadata": {
        "id": "view-in-github",
        "colab_type": "text"
      },
      "source": [
        "<a href=\"https://colab.research.google.com/github/pushkarsri999/supervised_ml_regression_project/blob/main/pushkar_Ted_Talk_Views_Predictions.ipynb\" target=\"_parent\"><img src=\"https://colab.research.google.com/assets/colab-badge.svg\" alt=\"Open In Colab\"/></a>"
      ]
    },
    {
      "cell_type": "markdown",
      "source": [
        "# **Problem Statement**"
      ],
      "metadata": {
        "id": "DIQa8FCZq4Qm"
      }
    },
    {
      "cell_type": "markdown",
      "source": [
        "##**\"TED is devoted to spreading powerful ideas on just about any topic. These datasets contain over 4,000 TED talks including transcripts in many languages.Founded in 1984 by Richard Salman as a nonprofit organization that aimed at bringing experts from the fields of Technology, Entertainment, and Design together, TED Conferences have gone on to become the Mecca of ideas from virtually all walks of life. As of 2015, TED and its sister TEDx chapters have published more than 2000 talks for free consumption by the masses and its speaker list boasts of the likes of Al Gore, Jimmy Wales, Shahrukh Khan, and Bill Gates. The main objective is to build a predictive model, which could help in predicting the views of the videos uploaded on the TEDx website.\"**"
      ],
      "metadata": {
        "id": "CvV5bNPJ09UZ"
      }
    },
    {
      "cell_type": "markdown",
      "source": [
        "##***Attribute / Description /Data Type***\n",
        "\n",
        "***talk_id Talk / identification\n",
        "number provided by\n",
        "TED / int***\n",
        "\n",
        "***title / Title of the talk / string***\n",
        "\n",
        "***speaker_1 / First speaker in TED's\n",
        "speaker list / string***\n",
        "\n",
        "***speakers / Speakers in the talk dictionary***\n",
        "\n",
        "***occupations *Occupations of the\n",
        "speakers / dictionary***\n",
        "\n",
        "***about_speakers / *Blurb about each\n",
        "speaker / dictionary***\n",
        "\n",
        "***views(Dependent\n",
        "Variable) / Count of views / int***\n",
        "\n",
        "***recorded_date / Date the talk was\n",
        "recorded / string*** \n",
        "\n",
        "***published_date / Date the talk was\n",
        "published to TED.com / string***\n",
        "\n",
        "***event / Event or medium in\n",
        "which the talk was given / string***\n",
        "\n",
        "***native_lang / Language the talk was\n",
        "given in / string***\n",
        "\n",
        "***available_lang / All available languages\n",
        "(lang_code) for a talk / list***\n",
        "\n",
        "***comments / Count of comments / int***\n",
        "\n",
        "***duration / Duration in seconds / int***\n",
        "\n",
        "***topics / Related tags or topics for the talk / list***\n",
        "\n",
        "***related_talks / Related talks\n",
        "(key='talk_id',\n",
        "value='title') / dictionary***\n",
        "\n",
        "***url / URL of the talk / string***\n",
        "\n",
        "***description / Description of the talk / string***\n",
        "\n",
        "***transcript / Full transcript of the talk / string***\n",
        "\n",
        "****The dictionary key maps to the speaker in ‘speakers’.***"
      ],
      "metadata": {
        "id": "w9X_cVoE19lP"
      }
    },
    {
      "cell_type": "markdown",
      "source": [
        "##**Importing Packages**"
      ],
      "metadata": {
        "id": "PkWo7orhrdkn"
      }
    },
    {
      "cell_type": "code",
      "source": [
        "import numpy as np\n",
        "import pandas as pd\n",
        "import matplotlib.pyplot as plt\n",
        "import seaborn as sns\n",
        "from sklearn.linear_model import LinearRegression\n",
        "from sklearn.preprocessing import StandardScaler\n",
        "from sklearn.feature_selection import f_regression\n",
        "from sklearn.model_selection import train_test_split\n",
        "from statsmodels.stats.outliers_influence import variance_inflation_factor\n",
        "sns.set() \n",
        "import ast"
      ],
      "metadata": {
        "id": "g0W76-hwACSW"
      },
      "execution_count": null,
      "outputs": []
    },
    {
      "cell_type": "code",
      "source": [
        "sns.set_style('darkgrid')\n",
        "plt.rcParams['font.size'] = 14\n",
        "plt.rcParams['figure.figsize'] = (7,4)\n",
        "plt.rcParams['figure.facecolor'] = '#00000000'\n",
        "\n",
        "import warnings\n",
        "warnings.filterwarnings('ignore')"
      ],
      "metadata": {
        "id": "SoPjf7RfpQV1"
      },
      "execution_count": null,
      "outputs": []
    },
    {
      "cell_type": "code",
      "source": [
        "raw_data=pd.read_csv(\"/content/drive/MyDrive/Alma Better/Capstone Project Regression Model/Copy of data_ted_talks.csv\")"
      ],
      "metadata": {
        "id": "KQdCRM4xACQA"
      },
      "execution_count": null,
      "outputs": []
    },
    {
      "cell_type": "markdown",
      "source": [
        "# ***Lets first describe our data.*** "
      ],
      "metadata": {
        "id": "d45dpieoahpa"
      }
    },
    {
      "cell_type": "code",
      "source": [
        "raw_data.head()"
      ],
      "metadata": {
        "colab": {
          "base_uri": "https://localhost:8080/",
          "height": 635
        },
        "id": "vG5EixQnACNX",
        "outputId": "946ab5e3-725f-41b1-c88f-48df18c1e3b8"
      },
      "execution_count": null,
      "outputs": [
        {
          "output_type": "execute_result",
          "data": {
            "text/plain": [
              "   talk_id                            title         speaker_1  \\\n",
              "0        1      Averting the climate crisis           Al Gore   \n",
              "1       92  The best stats you've ever seen      Hans Rosling   \n",
              "2        7                 Simplicity sells       David Pogue   \n",
              "3       53              Greening the ghetto     Majora Carter   \n",
              "4       66      Do schools kill creativity?  Sir Ken Robinson   \n",
              "\n",
              "              all_speakers                                    occupations  \\\n",
              "0           {0: 'Al Gore'}                      {0: ['climate advocate']}   \n",
              "1      {0: 'Hans Rosling'}  {0: ['global health expert; data visionary']}   \n",
              "2       {0: 'David Pogue'}                  {0: ['technology columnist']}   \n",
              "3     {0: 'Majora Carter'}    {0: ['activist for environmental justice']}   \n",
              "4  {0: 'Sir Ken Robinson'}                    {0: ['author', 'educator']}   \n",
              "\n",
              "                                      about_speakers     views recorded_date  \\\n",
              "0  {0: 'Nobel Laureate Al Gore focused the world’...   3523392    2006-02-25   \n",
              "1  {0: 'In Hans Rosling’s hands, data sings. Glob...  14501685    2006-02-22   \n",
              "2  {0: 'David Pogue is the personal technology co...   1920832    2006-02-24   \n",
              "3  {0: 'Majora Carter redefined the field of envi...   2664069    2006-02-26   \n",
              "4  {0: \"Creativity expert Sir Ken Robinson challe...  65051954    2006-02-25   \n",
              "\n",
              "  published_date    event native_lang  \\\n",
              "0     2006-06-27  TED2006          en   \n",
              "1     2006-06-27  TED2006          en   \n",
              "2     2006-06-27  TED2006          en   \n",
              "3     2006-06-27  TED2006          en   \n",
              "4     2006-06-27  TED2006          en   \n",
              "\n",
              "                                      available_lang  comments  duration  \\\n",
              "0  ['ar', 'bg', 'cs', 'de', 'el', 'en', 'es', 'fa...     272.0       977   \n",
              "1  ['ar', 'az', 'bg', 'bn', 'bs', 'cs', 'da', 'de...     628.0      1190   \n",
              "2  ['ar', 'bg', 'de', 'el', 'en', 'es', 'fa', 'fr...     124.0      1286   \n",
              "3  ['ar', 'bg', 'bn', 'ca', 'cs', 'de', 'en', 'es...     219.0      1116   \n",
              "4  ['af', 'ar', 'az', 'be', 'bg', 'bn', 'ca', 'cs...    4931.0      1164   \n",
              "\n",
              "                                              topics  \\\n",
              "0  ['alternative energy', 'cars', 'climate change...   \n",
              "1  ['Africa', 'Asia', 'Google', 'demo', 'economic...   \n",
              "2  ['computers', 'entertainment', 'interface desi...   \n",
              "3  ['MacArthur grant', 'activism', 'business', 'c...   \n",
              "4  ['children', 'creativity', 'culture', 'dance',...   \n",
              "\n",
              "                                       related_talks  \\\n",
              "0  {243: 'New thinking on the climate crisis', 54...   \n",
              "1  {2056: \"Own your body's data\", 2296: 'A visual...   \n",
              "2  {1725: '10 top time-saving tech tips', 2274: '...   \n",
              "3  {1041: '3 stories of local eco-entrepreneurshi...   \n",
              "4  {865: 'Bring on the learning revolution!', 173...   \n",
              "\n",
              "                                                 url  \\\n",
              "0  https://www.ted.com/talks/al_gore_averting_the...   \n",
              "1  https://www.ted.com/talks/hans_rosling_the_bes...   \n",
              "2  https://www.ted.com/talks/david_pogue_simplici...   \n",
              "3  https://www.ted.com/talks/majora_carter_greeni...   \n",
              "4  https://www.ted.com/talks/sir_ken_robinson_do_...   \n",
              "\n",
              "                                         description  \\\n",
              "0  With the same humor and humanity he exuded in ...   \n",
              "1  You've never seen data presented like this. Wi...   \n",
              "2  New York Times columnist David Pogue takes aim...   \n",
              "3  In an emotionally charged talk, MacArthur-winn...   \n",
              "4  Sir Ken Robinson makes an entertaining and pro...   \n",
              "\n",
              "                                          transcript  \n",
              "0  Thank you so much, Chris. And it's truly a gre...  \n",
              "1  About 10 years ago, I took on the task to teac...  \n",
              "2  (Music: \"The Sound of Silence,\" Simon & Garfun...  \n",
              "3  If you're here today — and I'm very happy that...  \n",
              "4  Good morning. How are you? (Audience) Good. It...  "
            ],
            "text/html": [
              "\n",
              "  <div id=\"df-38f9ef9a-3ea4-4f7e-9f87-24af4d121ea7\">\n",
              "    <div class=\"colab-df-container\">\n",
              "      <div>\n",
              "<style scoped>\n",
              "    .dataframe tbody tr th:only-of-type {\n",
              "        vertical-align: middle;\n",
              "    }\n",
              "\n",
              "    .dataframe tbody tr th {\n",
              "        vertical-align: top;\n",
              "    }\n",
              "\n",
              "    .dataframe thead th {\n",
              "        text-align: right;\n",
              "    }\n",
              "</style>\n",
              "<table border=\"1\" class=\"dataframe\">\n",
              "  <thead>\n",
              "    <tr style=\"text-align: right;\">\n",
              "      <th></th>\n",
              "      <th>talk_id</th>\n",
              "      <th>title</th>\n",
              "      <th>speaker_1</th>\n",
              "      <th>all_speakers</th>\n",
              "      <th>occupations</th>\n",
              "      <th>about_speakers</th>\n",
              "      <th>views</th>\n",
              "      <th>recorded_date</th>\n",
              "      <th>published_date</th>\n",
              "      <th>event</th>\n",
              "      <th>native_lang</th>\n",
              "      <th>available_lang</th>\n",
              "      <th>comments</th>\n",
              "      <th>duration</th>\n",
              "      <th>topics</th>\n",
              "      <th>related_talks</th>\n",
              "      <th>url</th>\n",
              "      <th>description</th>\n",
              "      <th>transcript</th>\n",
              "    </tr>\n",
              "  </thead>\n",
              "  <tbody>\n",
              "    <tr>\n",
              "      <th>0</th>\n",
              "      <td>1</td>\n",
              "      <td>Averting the climate crisis</td>\n",
              "      <td>Al Gore</td>\n",
              "      <td>{0: 'Al Gore'}</td>\n",
              "      <td>{0: ['climate advocate']}</td>\n",
              "      <td>{0: 'Nobel Laureate Al Gore focused the world’...</td>\n",
              "      <td>3523392</td>\n",
              "      <td>2006-02-25</td>\n",
              "      <td>2006-06-27</td>\n",
              "      <td>TED2006</td>\n",
              "      <td>en</td>\n",
              "      <td>['ar', 'bg', 'cs', 'de', 'el', 'en', 'es', 'fa...</td>\n",
              "      <td>272.0</td>\n",
              "      <td>977</td>\n",
              "      <td>['alternative energy', 'cars', 'climate change...</td>\n",
              "      <td>{243: 'New thinking on the climate crisis', 54...</td>\n",
              "      <td>https://www.ted.com/talks/al_gore_averting_the...</td>\n",
              "      <td>With the same humor and humanity he exuded in ...</td>\n",
              "      <td>Thank you so much, Chris. And it's truly a gre...</td>\n",
              "    </tr>\n",
              "    <tr>\n",
              "      <th>1</th>\n",
              "      <td>92</td>\n",
              "      <td>The best stats you've ever seen</td>\n",
              "      <td>Hans Rosling</td>\n",
              "      <td>{0: 'Hans Rosling'}</td>\n",
              "      <td>{0: ['global health expert; data visionary']}</td>\n",
              "      <td>{0: 'In Hans Rosling’s hands, data sings. Glob...</td>\n",
              "      <td>14501685</td>\n",
              "      <td>2006-02-22</td>\n",
              "      <td>2006-06-27</td>\n",
              "      <td>TED2006</td>\n",
              "      <td>en</td>\n",
              "      <td>['ar', 'az', 'bg', 'bn', 'bs', 'cs', 'da', 'de...</td>\n",
              "      <td>628.0</td>\n",
              "      <td>1190</td>\n",
              "      <td>['Africa', 'Asia', 'Google', 'demo', 'economic...</td>\n",
              "      <td>{2056: \"Own your body's data\", 2296: 'A visual...</td>\n",
              "      <td>https://www.ted.com/talks/hans_rosling_the_bes...</td>\n",
              "      <td>You've never seen data presented like this. Wi...</td>\n",
              "      <td>About 10 years ago, I took on the task to teac...</td>\n",
              "    </tr>\n",
              "    <tr>\n",
              "      <th>2</th>\n",
              "      <td>7</td>\n",
              "      <td>Simplicity sells</td>\n",
              "      <td>David Pogue</td>\n",
              "      <td>{0: 'David Pogue'}</td>\n",
              "      <td>{0: ['technology columnist']}</td>\n",
              "      <td>{0: 'David Pogue is the personal technology co...</td>\n",
              "      <td>1920832</td>\n",
              "      <td>2006-02-24</td>\n",
              "      <td>2006-06-27</td>\n",
              "      <td>TED2006</td>\n",
              "      <td>en</td>\n",
              "      <td>['ar', 'bg', 'de', 'el', 'en', 'es', 'fa', 'fr...</td>\n",
              "      <td>124.0</td>\n",
              "      <td>1286</td>\n",
              "      <td>['computers', 'entertainment', 'interface desi...</td>\n",
              "      <td>{1725: '10 top time-saving tech tips', 2274: '...</td>\n",
              "      <td>https://www.ted.com/talks/david_pogue_simplici...</td>\n",
              "      <td>New York Times columnist David Pogue takes aim...</td>\n",
              "      <td>(Music: \"The Sound of Silence,\" Simon &amp; Garfun...</td>\n",
              "    </tr>\n",
              "    <tr>\n",
              "      <th>3</th>\n",
              "      <td>53</td>\n",
              "      <td>Greening the ghetto</td>\n",
              "      <td>Majora Carter</td>\n",
              "      <td>{0: 'Majora Carter'}</td>\n",
              "      <td>{0: ['activist for environmental justice']}</td>\n",
              "      <td>{0: 'Majora Carter redefined the field of envi...</td>\n",
              "      <td>2664069</td>\n",
              "      <td>2006-02-26</td>\n",
              "      <td>2006-06-27</td>\n",
              "      <td>TED2006</td>\n",
              "      <td>en</td>\n",
              "      <td>['ar', 'bg', 'bn', 'ca', 'cs', 'de', 'en', 'es...</td>\n",
              "      <td>219.0</td>\n",
              "      <td>1116</td>\n",
              "      <td>['MacArthur grant', 'activism', 'business', 'c...</td>\n",
              "      <td>{1041: '3 stories of local eco-entrepreneurshi...</td>\n",
              "      <td>https://www.ted.com/talks/majora_carter_greeni...</td>\n",
              "      <td>In an emotionally charged talk, MacArthur-winn...</td>\n",
              "      <td>If you're here today — and I'm very happy that...</td>\n",
              "    </tr>\n",
              "    <tr>\n",
              "      <th>4</th>\n",
              "      <td>66</td>\n",
              "      <td>Do schools kill creativity?</td>\n",
              "      <td>Sir Ken Robinson</td>\n",
              "      <td>{0: 'Sir Ken Robinson'}</td>\n",
              "      <td>{0: ['author', 'educator']}</td>\n",
              "      <td>{0: \"Creativity expert Sir Ken Robinson challe...</td>\n",
              "      <td>65051954</td>\n",
              "      <td>2006-02-25</td>\n",
              "      <td>2006-06-27</td>\n",
              "      <td>TED2006</td>\n",
              "      <td>en</td>\n",
              "      <td>['af', 'ar', 'az', 'be', 'bg', 'bn', 'ca', 'cs...</td>\n",
              "      <td>4931.0</td>\n",
              "      <td>1164</td>\n",
              "      <td>['children', 'creativity', 'culture', 'dance',...</td>\n",
              "      <td>{865: 'Bring on the learning revolution!', 173...</td>\n",
              "      <td>https://www.ted.com/talks/sir_ken_robinson_do_...</td>\n",
              "      <td>Sir Ken Robinson makes an entertaining and pro...</td>\n",
              "      <td>Good morning. How are you? (Audience) Good. It...</td>\n",
              "    </tr>\n",
              "  </tbody>\n",
              "</table>\n",
              "</div>\n",
              "      <button class=\"colab-df-convert\" onclick=\"convertToInteractive('df-38f9ef9a-3ea4-4f7e-9f87-24af4d121ea7')\"\n",
              "              title=\"Convert this dataframe to an interactive table.\"\n",
              "              style=\"display:none;\">\n",
              "        \n",
              "  <svg xmlns=\"http://www.w3.org/2000/svg\" height=\"24px\"viewBox=\"0 0 24 24\"\n",
              "       width=\"24px\">\n",
              "    <path d=\"M0 0h24v24H0V0z\" fill=\"none\"/>\n",
              "    <path d=\"M18.56 5.44l.94 2.06.94-2.06 2.06-.94-2.06-.94-.94-2.06-.94 2.06-2.06.94zm-11 1L8.5 8.5l.94-2.06 2.06-.94-2.06-.94L8.5 2.5l-.94 2.06-2.06.94zm10 10l.94 2.06.94-2.06 2.06-.94-2.06-.94-.94-2.06-.94 2.06-2.06.94z\"/><path d=\"M17.41 7.96l-1.37-1.37c-.4-.4-.92-.59-1.43-.59-.52 0-1.04.2-1.43.59L10.3 9.45l-7.72 7.72c-.78.78-.78 2.05 0 2.83L4 21.41c.39.39.9.59 1.41.59.51 0 1.02-.2 1.41-.59l7.78-7.78 2.81-2.81c.8-.78.8-2.07 0-2.86zM5.41 20L4 18.59l7.72-7.72 1.47 1.35L5.41 20z\"/>\n",
              "  </svg>\n",
              "      </button>\n",
              "      \n",
              "  <style>\n",
              "    .colab-df-container {\n",
              "      display:flex;\n",
              "      flex-wrap:wrap;\n",
              "      gap: 12px;\n",
              "    }\n",
              "\n",
              "    .colab-df-convert {\n",
              "      background-color: #E8F0FE;\n",
              "      border: none;\n",
              "      border-radius: 50%;\n",
              "      cursor: pointer;\n",
              "      display: none;\n",
              "      fill: #1967D2;\n",
              "      height: 32px;\n",
              "      padding: 0 0 0 0;\n",
              "      width: 32px;\n",
              "    }\n",
              "\n",
              "    .colab-df-convert:hover {\n",
              "      background-color: #E2EBFA;\n",
              "      box-shadow: 0px 1px 2px rgba(60, 64, 67, 0.3), 0px 1px 3px 1px rgba(60, 64, 67, 0.15);\n",
              "      fill: #174EA6;\n",
              "    }\n",
              "\n",
              "    [theme=dark] .colab-df-convert {\n",
              "      background-color: #3B4455;\n",
              "      fill: #D2E3FC;\n",
              "    }\n",
              "\n",
              "    [theme=dark] .colab-df-convert:hover {\n",
              "      background-color: #434B5C;\n",
              "      box-shadow: 0px 1px 3px 1px rgba(0, 0, 0, 0.15);\n",
              "      filter: drop-shadow(0px 1px 2px rgba(0, 0, 0, 0.3));\n",
              "      fill: #FFFFFF;\n",
              "    }\n",
              "  </style>\n",
              "\n",
              "      <script>\n",
              "        const buttonEl =\n",
              "          document.querySelector('#df-38f9ef9a-3ea4-4f7e-9f87-24af4d121ea7 button.colab-df-convert');\n",
              "        buttonEl.style.display =\n",
              "          google.colab.kernel.accessAllowed ? 'block' : 'none';\n",
              "\n",
              "        async function convertToInteractive(key) {\n",
              "          const element = document.querySelector('#df-38f9ef9a-3ea4-4f7e-9f87-24af4d121ea7');\n",
              "          const dataTable =\n",
              "            await google.colab.kernel.invokeFunction('convertToInteractive',\n",
              "                                                     [key], {});\n",
              "          if (!dataTable) return;\n",
              "\n",
              "          const docLinkHtml = 'Like what you see? Visit the ' +\n",
              "            '<a target=\"_blank\" href=https://colab.research.google.com/notebooks/data_table.ipynb>data table notebook</a>'\n",
              "            + ' to learn more about interactive tables.';\n",
              "          element.innerHTML = '';\n",
              "          dataTable['output_type'] = 'display_data';\n",
              "          await google.colab.output.renderOutput(dataTable, element);\n",
              "          const docLink = document.createElement('div');\n",
              "          docLink.innerHTML = docLinkHtml;\n",
              "          element.appendChild(docLink);\n",
              "        }\n",
              "      </script>\n",
              "    </div>\n",
              "  </div>\n",
              "  "
            ]
          },
          "metadata": {},
          "execution_count": 172
        }
      ]
    },
    {
      "cell_type": "code",
      "source": [
        "# checking for null values\n",
        "raw_data.info()"
      ],
      "metadata": {
        "colab": {
          "base_uri": "https://localhost:8080/"
        },
        "id": "Lw2cmjVRACKm",
        "outputId": "a581a85d-3846-4670-f5e8-5d08eb57332c"
      },
      "execution_count": null,
      "outputs": [
        {
          "output_type": "stream",
          "name": "stdout",
          "text": [
            "<class 'pandas.core.frame.DataFrame'>\n",
            "RangeIndex: 4005 entries, 0 to 4004\n",
            "Data columns (total 19 columns):\n",
            " #   Column          Non-Null Count  Dtype  \n",
            "---  ------          --------------  -----  \n",
            " 0   talk_id         4005 non-null   int64  \n",
            " 1   title           4005 non-null   object \n",
            " 2   speaker_1       4005 non-null   object \n",
            " 3   all_speakers    4001 non-null   object \n",
            " 4   occupations     3483 non-null   object \n",
            " 5   about_speakers  3502 non-null   object \n",
            " 6   views           4005 non-null   int64  \n",
            " 7   recorded_date   4004 non-null   object \n",
            " 8   published_date  4005 non-null   object \n",
            " 9   event           4005 non-null   object \n",
            " 10  native_lang     4005 non-null   object \n",
            " 11  available_lang  4005 non-null   object \n",
            " 12  comments        3350 non-null   float64\n",
            " 13  duration        4005 non-null   int64  \n",
            " 14  topics          4005 non-null   object \n",
            " 15  related_talks   4005 non-null   object \n",
            " 16  url             4005 non-null   object \n",
            " 17  description     4005 non-null   object \n",
            " 18  transcript      4005 non-null   object \n",
            "dtypes: float64(1), int64(3), object(15)\n",
            "memory usage: 594.6+ KB\n"
          ]
        }
      ]
    },
    {
      "cell_type": "code",
      "source": [
        "raw_data.isna().sum()"
      ],
      "metadata": {
        "colab": {
          "base_uri": "https://localhost:8080/"
        },
        "id": "A87zaCcsBiQG",
        "outputId": "c82bc485-402a-4b23-e27b-fe19a20cc7f6"
      },
      "execution_count": null,
      "outputs": [
        {
          "output_type": "execute_result",
          "data": {
            "text/plain": [
              "talk_id             0\n",
              "title               0\n",
              "speaker_1           0\n",
              "all_speakers        4\n",
              "occupations       522\n",
              "about_speakers    503\n",
              "views               0\n",
              "recorded_date       1\n",
              "published_date      0\n",
              "event               0\n",
              "native_lang         0\n",
              "available_lang      0\n",
              "comments          655\n",
              "duration            0\n",
              "topics              0\n",
              "related_talks       0\n",
              "url                 0\n",
              "description         0\n",
              "transcript          0\n",
              "dtype: int64"
            ]
          },
          "metadata": {},
          "execution_count": 174
        }
      ]
    },
    {
      "cell_type": "code",
      "source": [
        "# Duplicate values check\n",
        "print(raw_data.duplicated().sum())"
      ],
      "metadata": {
        "colab": {
          "base_uri": "https://localhost:8080/"
        },
        "id": "2nL3HmmVDS67",
        "outputId": "fbc5688a-3cb6-419a-be86-e5817e51e228"
      },
      "execution_count": null,
      "outputs": [
        {
          "output_type": "stream",
          "name": "stdout",
          "text": [
            "0\n"
          ]
        }
      ]
    },
    {
      "cell_type": "code",
      "source": [
        "# null values removal\n",
        "#data=raw_data.dropna()"
      ],
      "metadata": {
        "id": "gPQAzhra_E5j"
      },
      "execution_count": null,
      "outputs": []
    },
    {
      "cell_type": "code",
      "source": [
        "#data.isna().sum()"
      ],
      "metadata": {
        "id": "fKg-EgOw_m6O"
      },
      "execution_count": null,
      "outputs": []
    },
    {
      "cell_type": "markdown",
      "source": [
        "##***Now we can start our Exploratory Data Analysis***"
      ],
      "metadata": {
        "id": "F6_ccIT7a_xj"
      }
    },
    {
      "cell_type": "code",
      "source": [
        "raw_data.describe()"
      ],
      "metadata": {
        "colab": {
          "base_uri": "https://localhost:8080/",
          "height": 300
        },
        "id": "NoF9kioNBiSx",
        "outputId": "e81b65c9-d3be-42b7-80f1-4694a6a3ccff"
      },
      "execution_count": null,
      "outputs": [
        {
          "output_type": "execute_result",
          "data": {
            "text/plain": [
              "            talk_id         views     comments     duration\n",
              "count   4005.000000  4.005000e+03  3350.000000  4005.000000\n",
              "mean   12432.538327  2.148006e+06   161.997015   724.011236\n",
              "std    17447.576262  3.451226e+06   268.838922   361.775462\n",
              "min        1.000000  0.000000e+00     0.000000    60.000000\n",
              "25%     1252.000000  8.820690e+05    38.000000   393.000000\n",
              "50%     2333.000000  1.375508e+06    89.000000   738.000000\n",
              "75%    23777.000000  2.133110e+06   188.000000   974.000000\n",
              "max    62794.000000  6.505195e+07  6449.000000  3922.000000"
            ],
            "text/html": [
              "\n",
              "  <div id=\"df-437b271a-9340-45c5-a019-dc0cd32c37ab\">\n",
              "    <div class=\"colab-df-container\">\n",
              "      <div>\n",
              "<style scoped>\n",
              "    .dataframe tbody tr th:only-of-type {\n",
              "        vertical-align: middle;\n",
              "    }\n",
              "\n",
              "    .dataframe tbody tr th {\n",
              "        vertical-align: top;\n",
              "    }\n",
              "\n",
              "    .dataframe thead th {\n",
              "        text-align: right;\n",
              "    }\n",
              "</style>\n",
              "<table border=\"1\" class=\"dataframe\">\n",
              "  <thead>\n",
              "    <tr style=\"text-align: right;\">\n",
              "      <th></th>\n",
              "      <th>talk_id</th>\n",
              "      <th>views</th>\n",
              "      <th>comments</th>\n",
              "      <th>duration</th>\n",
              "    </tr>\n",
              "  </thead>\n",
              "  <tbody>\n",
              "    <tr>\n",
              "      <th>count</th>\n",
              "      <td>4005.000000</td>\n",
              "      <td>4.005000e+03</td>\n",
              "      <td>3350.000000</td>\n",
              "      <td>4005.000000</td>\n",
              "    </tr>\n",
              "    <tr>\n",
              "      <th>mean</th>\n",
              "      <td>12432.538327</td>\n",
              "      <td>2.148006e+06</td>\n",
              "      <td>161.997015</td>\n",
              "      <td>724.011236</td>\n",
              "    </tr>\n",
              "    <tr>\n",
              "      <th>std</th>\n",
              "      <td>17447.576262</td>\n",
              "      <td>3.451226e+06</td>\n",
              "      <td>268.838922</td>\n",
              "      <td>361.775462</td>\n",
              "    </tr>\n",
              "    <tr>\n",
              "      <th>min</th>\n",
              "      <td>1.000000</td>\n",
              "      <td>0.000000e+00</td>\n",
              "      <td>0.000000</td>\n",
              "      <td>60.000000</td>\n",
              "    </tr>\n",
              "    <tr>\n",
              "      <th>25%</th>\n",
              "      <td>1252.000000</td>\n",
              "      <td>8.820690e+05</td>\n",
              "      <td>38.000000</td>\n",
              "      <td>393.000000</td>\n",
              "    </tr>\n",
              "    <tr>\n",
              "      <th>50%</th>\n",
              "      <td>2333.000000</td>\n",
              "      <td>1.375508e+06</td>\n",
              "      <td>89.000000</td>\n",
              "      <td>738.000000</td>\n",
              "    </tr>\n",
              "    <tr>\n",
              "      <th>75%</th>\n",
              "      <td>23777.000000</td>\n",
              "      <td>2.133110e+06</td>\n",
              "      <td>188.000000</td>\n",
              "      <td>974.000000</td>\n",
              "    </tr>\n",
              "    <tr>\n",
              "      <th>max</th>\n",
              "      <td>62794.000000</td>\n",
              "      <td>6.505195e+07</td>\n",
              "      <td>6449.000000</td>\n",
              "      <td>3922.000000</td>\n",
              "    </tr>\n",
              "  </tbody>\n",
              "</table>\n",
              "</div>\n",
              "      <button class=\"colab-df-convert\" onclick=\"convertToInteractive('df-437b271a-9340-45c5-a019-dc0cd32c37ab')\"\n",
              "              title=\"Convert this dataframe to an interactive table.\"\n",
              "              style=\"display:none;\">\n",
              "        \n",
              "  <svg xmlns=\"http://www.w3.org/2000/svg\" height=\"24px\"viewBox=\"0 0 24 24\"\n",
              "       width=\"24px\">\n",
              "    <path d=\"M0 0h24v24H0V0z\" fill=\"none\"/>\n",
              "    <path d=\"M18.56 5.44l.94 2.06.94-2.06 2.06-.94-2.06-.94-.94-2.06-.94 2.06-2.06.94zm-11 1L8.5 8.5l.94-2.06 2.06-.94-2.06-.94L8.5 2.5l-.94 2.06-2.06.94zm10 10l.94 2.06.94-2.06 2.06-.94-2.06-.94-.94-2.06-.94 2.06-2.06.94z\"/><path d=\"M17.41 7.96l-1.37-1.37c-.4-.4-.92-.59-1.43-.59-.52 0-1.04.2-1.43.59L10.3 9.45l-7.72 7.72c-.78.78-.78 2.05 0 2.83L4 21.41c.39.39.9.59 1.41.59.51 0 1.02-.2 1.41-.59l7.78-7.78 2.81-2.81c.8-.78.8-2.07 0-2.86zM5.41 20L4 18.59l7.72-7.72 1.47 1.35L5.41 20z\"/>\n",
              "  </svg>\n",
              "      </button>\n",
              "      \n",
              "  <style>\n",
              "    .colab-df-container {\n",
              "      display:flex;\n",
              "      flex-wrap:wrap;\n",
              "      gap: 12px;\n",
              "    }\n",
              "\n",
              "    .colab-df-convert {\n",
              "      background-color: #E8F0FE;\n",
              "      border: none;\n",
              "      border-radius: 50%;\n",
              "      cursor: pointer;\n",
              "      display: none;\n",
              "      fill: #1967D2;\n",
              "      height: 32px;\n",
              "      padding: 0 0 0 0;\n",
              "      width: 32px;\n",
              "    }\n",
              "\n",
              "    .colab-df-convert:hover {\n",
              "      background-color: #E2EBFA;\n",
              "      box-shadow: 0px 1px 2px rgba(60, 64, 67, 0.3), 0px 1px 3px 1px rgba(60, 64, 67, 0.15);\n",
              "      fill: #174EA6;\n",
              "    }\n",
              "\n",
              "    [theme=dark] .colab-df-convert {\n",
              "      background-color: #3B4455;\n",
              "      fill: #D2E3FC;\n",
              "    }\n",
              "\n",
              "    [theme=dark] .colab-df-convert:hover {\n",
              "      background-color: #434B5C;\n",
              "      box-shadow: 0px 1px 3px 1px rgba(0, 0, 0, 0.15);\n",
              "      filter: drop-shadow(0px 1px 2px rgba(0, 0, 0, 0.3));\n",
              "      fill: #FFFFFF;\n",
              "    }\n",
              "  </style>\n",
              "\n",
              "      <script>\n",
              "        const buttonEl =\n",
              "          document.querySelector('#df-437b271a-9340-45c5-a019-dc0cd32c37ab button.colab-df-convert');\n",
              "        buttonEl.style.display =\n",
              "          google.colab.kernel.accessAllowed ? 'block' : 'none';\n",
              "\n",
              "        async function convertToInteractive(key) {\n",
              "          const element = document.querySelector('#df-437b271a-9340-45c5-a019-dc0cd32c37ab');\n",
              "          const dataTable =\n",
              "            await google.colab.kernel.invokeFunction('convertToInteractive',\n",
              "                                                     [key], {});\n",
              "          if (!dataTable) return;\n",
              "\n",
              "          const docLinkHtml = 'Like what you see? Visit the ' +\n",
              "            '<a target=\"_blank\" href=https://colab.research.google.com/notebooks/data_table.ipynb>data table notebook</a>'\n",
              "            + ' to learn more about interactive tables.';\n",
              "          element.innerHTML = '';\n",
              "          dataTable['output_type'] = 'display_data';\n",
              "          await google.colab.output.renderOutput(dataTable, element);\n",
              "          const docLink = document.createElement('div');\n",
              "          docLink.innerHTML = docLinkHtml;\n",
              "          element.appendChild(docLink);\n",
              "        }\n",
              "      </script>\n",
              "    </div>\n",
              "  </div>\n",
              "  "
            ]
          },
          "metadata": {},
          "execution_count": 178
        }
      ]
    },
    {
      "cell_type": "markdown",
      "source": [
        "### Formating DateTime"
      ],
      "metadata": {
        "id": "9vkjV7CKc4aT"
      }
    },
    {
      "cell_type": "code",
      "source": [
        "from datetime import datetime\n",
        "import calendar\n",
        "today=datetime.now()\n",
        "today.strftime('%Y-%m-%d')"
      ],
      "metadata": {
        "colab": {
          "base_uri": "https://localhost:8080/",
          "height": 35
        },
        "id": "kCTsAeemc3qC",
        "outputId": "5d1cbb1d-e0cf-42cb-b7d5-fc4d6df70ed8"
      },
      "execution_count": null,
      "outputs": [
        {
          "output_type": "execute_result",
          "data": {
            "text/plain": [
              "'2022-09-16'"
            ],
            "application/vnd.google.colaboratory.intrinsic+json": {
              "type": "string"
            }
          },
          "metadata": {},
          "execution_count": 179
        }
      ]
    },
    {
      "cell_type": "markdown",
      "source": [
        "The format of recorded_date and published_date are in string format, we have to convert them into date format"
      ],
      "metadata": {
        "id": "vikwuEW-eF_d"
      }
    },
    {
      "cell_type": "code",
      "source": [
        "# Recorded date formatting:\n",
        "raw_data['recorded_date']= pd.to_datetime(raw_data['recorded_date'])\n",
        "# Published date formatting:\n",
        "raw_data['published_date']= pd.to_datetime(raw_data['published_date'])"
      ],
      "metadata": {
        "id": "RobOTiWfdw7f"
      },
      "execution_count": null,
      "outputs": []
    },
    {
      "cell_type": "code",
      "source": [
        "raw_data[['recorded_date','published_date']].info()"
      ],
      "metadata": {
        "colab": {
          "base_uri": "https://localhost:8080/"
        },
        "id": "3hXaS87Me1LO",
        "outputId": "508a239c-a746-41d3-eec2-86e213fbff23"
      },
      "execution_count": null,
      "outputs": [
        {
          "output_type": "stream",
          "name": "stdout",
          "text": [
            "<class 'pandas.core.frame.DataFrame'>\n",
            "RangeIndex: 4005 entries, 0 to 4004\n",
            "Data columns (total 2 columns):\n",
            " #   Column          Non-Null Count  Dtype         \n",
            "---  ------          --------------  -----         \n",
            " 0   recorded_date   4004 non-null   datetime64[ns]\n",
            " 1   published_date  4005 non-null   datetime64[ns]\n",
            "dtypes: datetime64[ns](2)\n",
            "memory usage: 62.7 KB\n"
          ]
        }
      ]
    },
    {
      "cell_type": "code",
      "source": [
        "# Number of days Ted talk has been published\n",
        "last_publishing_date= raw_data['published_date'].max()\n",
        "raw_data['time_passed_since_published']= last_publishing_date - pd.DatetimeIndex(raw_data['published_date'])"
      ],
      "metadata": {
        "id": "lm536zCfc3ns"
      },
      "execution_count": null,
      "outputs": []
    },
    {
      "cell_type": "code",
      "source": [
        "import datetime\n",
        "month_order = ['Jan', 'Feb', 'Mar', 'Apr', 'May', 'Jun', 'Jul', 'Aug', 'Sep', 'Oct', 'Nov', 'Dec']\n",
        "day_order   = ['Mon', 'Tue', 'Wed', 'Thu', 'Fri', 'Sat', 'Sun']\n",
        "raw_data['publish_month'] = pd.DatetimeIndex(raw_data['published_date']).month\n",
        "raw_data['publish_month'] = raw_data['publish_month'].apply(lambda x: calendar.month_abbr[x])\n",
        "raw_data['publish_year'] = pd.DatetimeIndex(raw_data['published_date']).year\n",
        "raw_data['publish_day'] = pd.DatetimeIndex(raw_data['published_date']).day\n",
        "raw_data['publish_week_day']= raw_data['published_date'].apply(lambda x: day_order[datetime.date(x.year, x.month, x.day).weekday()])"
      ],
      "metadata": {
        "id": "-7Ok9bBac3lD"
      },
      "execution_count": null,
      "outputs": []
    },
    {
      "cell_type": "markdown",
      "source": [
        "##***Creating variable for Daily Views***"
      ],
      "metadata": {
        "id": "NrmZg7AuskTD"
      }
    },
    {
      "cell_type": "code",
      "source": [
        "# Daily views/Talk:\n",
        "raw_data['daily_views'] = raw_data['views'] / ( raw_data['time_passed_since_published'].apply(lambda x : x.days) + 1 )"
      ],
      "metadata": {
        "id": "AZMKhghzc3fa"
      },
      "execution_count": null,
      "outputs": []
    },
    {
      "cell_type": "code",
      "source": [
        "raw_data[['publish_month','publish_year','publish_day','publish_week_day','daily_views']]"
      ],
      "metadata": {
        "id": "9St2iBIvc3i4",
        "colab": {
          "base_uri": "https://localhost:8080/",
          "height": 424
        },
        "outputId": "b4e9c9e4-3f7a-45d5-df59-d846d5c14689"
      },
      "execution_count": null,
      "outputs": [
        {
          "output_type": "execute_result",
          "data": {
            "text/plain": [
              "     publish_month  publish_year  publish_day publish_week_day    daily_views\n",
              "0              Jun          2006           27              Tue     696.735614\n",
              "1              Jun          2006           27              Tue    2867.645837\n",
              "2              Jun          2006           27              Tue     379.836267\n",
              "3              Jun          2006           27              Tue     526.808187\n",
              "4              Jun          2006           27              Tue   12863.744117\n",
              "...            ...           ...          ...              ...            ...\n",
              "4000           Apr          2020           27              Mon  125733.500000\n",
              "4001           Apr          2020           27              Mon   76796.750000\n",
              "4002           Apr          2020           28              Tue  154804.666667\n",
              "4003           Apr          2020           30              Thu   56582.000000\n",
              "4004           Apr          2020           30              Thu       0.000000\n",
              "\n",
              "[4005 rows x 5 columns]"
            ],
            "text/html": [
              "\n",
              "  <div id=\"df-afe727de-6685-4f6b-b6df-0a2bbd3b8162\">\n",
              "    <div class=\"colab-df-container\">\n",
              "      <div>\n",
              "<style scoped>\n",
              "    .dataframe tbody tr th:only-of-type {\n",
              "        vertical-align: middle;\n",
              "    }\n",
              "\n",
              "    .dataframe tbody tr th {\n",
              "        vertical-align: top;\n",
              "    }\n",
              "\n",
              "    .dataframe thead th {\n",
              "        text-align: right;\n",
              "    }\n",
              "</style>\n",
              "<table border=\"1\" class=\"dataframe\">\n",
              "  <thead>\n",
              "    <tr style=\"text-align: right;\">\n",
              "      <th></th>\n",
              "      <th>publish_month</th>\n",
              "      <th>publish_year</th>\n",
              "      <th>publish_day</th>\n",
              "      <th>publish_week_day</th>\n",
              "      <th>daily_views</th>\n",
              "    </tr>\n",
              "  </thead>\n",
              "  <tbody>\n",
              "    <tr>\n",
              "      <th>0</th>\n",
              "      <td>Jun</td>\n",
              "      <td>2006</td>\n",
              "      <td>27</td>\n",
              "      <td>Tue</td>\n",
              "      <td>696.735614</td>\n",
              "    </tr>\n",
              "    <tr>\n",
              "      <th>1</th>\n",
              "      <td>Jun</td>\n",
              "      <td>2006</td>\n",
              "      <td>27</td>\n",
              "      <td>Tue</td>\n",
              "      <td>2867.645837</td>\n",
              "    </tr>\n",
              "    <tr>\n",
              "      <th>2</th>\n",
              "      <td>Jun</td>\n",
              "      <td>2006</td>\n",
              "      <td>27</td>\n",
              "      <td>Tue</td>\n",
              "      <td>379.836267</td>\n",
              "    </tr>\n",
              "    <tr>\n",
              "      <th>3</th>\n",
              "      <td>Jun</td>\n",
              "      <td>2006</td>\n",
              "      <td>27</td>\n",
              "      <td>Tue</td>\n",
              "      <td>526.808187</td>\n",
              "    </tr>\n",
              "    <tr>\n",
              "      <th>4</th>\n",
              "      <td>Jun</td>\n",
              "      <td>2006</td>\n",
              "      <td>27</td>\n",
              "      <td>Tue</td>\n",
              "      <td>12863.744117</td>\n",
              "    </tr>\n",
              "    <tr>\n",
              "      <th>...</th>\n",
              "      <td>...</td>\n",
              "      <td>...</td>\n",
              "      <td>...</td>\n",
              "      <td>...</td>\n",
              "      <td>...</td>\n",
              "    </tr>\n",
              "    <tr>\n",
              "      <th>4000</th>\n",
              "      <td>Apr</td>\n",
              "      <td>2020</td>\n",
              "      <td>27</td>\n",
              "      <td>Mon</td>\n",
              "      <td>125733.500000</td>\n",
              "    </tr>\n",
              "    <tr>\n",
              "      <th>4001</th>\n",
              "      <td>Apr</td>\n",
              "      <td>2020</td>\n",
              "      <td>27</td>\n",
              "      <td>Mon</td>\n",
              "      <td>76796.750000</td>\n",
              "    </tr>\n",
              "    <tr>\n",
              "      <th>4002</th>\n",
              "      <td>Apr</td>\n",
              "      <td>2020</td>\n",
              "      <td>28</td>\n",
              "      <td>Tue</td>\n",
              "      <td>154804.666667</td>\n",
              "    </tr>\n",
              "    <tr>\n",
              "      <th>4003</th>\n",
              "      <td>Apr</td>\n",
              "      <td>2020</td>\n",
              "      <td>30</td>\n",
              "      <td>Thu</td>\n",
              "      <td>56582.000000</td>\n",
              "    </tr>\n",
              "    <tr>\n",
              "      <th>4004</th>\n",
              "      <td>Apr</td>\n",
              "      <td>2020</td>\n",
              "      <td>30</td>\n",
              "      <td>Thu</td>\n",
              "      <td>0.000000</td>\n",
              "    </tr>\n",
              "  </tbody>\n",
              "</table>\n",
              "<p>4005 rows × 5 columns</p>\n",
              "</div>\n",
              "      <button class=\"colab-df-convert\" onclick=\"convertToInteractive('df-afe727de-6685-4f6b-b6df-0a2bbd3b8162')\"\n",
              "              title=\"Convert this dataframe to an interactive table.\"\n",
              "              style=\"display:none;\">\n",
              "        \n",
              "  <svg xmlns=\"http://www.w3.org/2000/svg\" height=\"24px\"viewBox=\"0 0 24 24\"\n",
              "       width=\"24px\">\n",
              "    <path d=\"M0 0h24v24H0V0z\" fill=\"none\"/>\n",
              "    <path d=\"M18.56 5.44l.94 2.06.94-2.06 2.06-.94-2.06-.94-.94-2.06-.94 2.06-2.06.94zm-11 1L8.5 8.5l.94-2.06 2.06-.94-2.06-.94L8.5 2.5l-.94 2.06-2.06.94zm10 10l.94 2.06.94-2.06 2.06-.94-2.06-.94-.94-2.06-.94 2.06-2.06.94z\"/><path d=\"M17.41 7.96l-1.37-1.37c-.4-.4-.92-.59-1.43-.59-.52 0-1.04.2-1.43.59L10.3 9.45l-7.72 7.72c-.78.78-.78 2.05 0 2.83L4 21.41c.39.39.9.59 1.41.59.51 0 1.02-.2 1.41-.59l7.78-7.78 2.81-2.81c.8-.78.8-2.07 0-2.86zM5.41 20L4 18.59l7.72-7.72 1.47 1.35L5.41 20z\"/>\n",
              "  </svg>\n",
              "      </button>\n",
              "      \n",
              "  <style>\n",
              "    .colab-df-container {\n",
              "      display:flex;\n",
              "      flex-wrap:wrap;\n",
              "      gap: 12px;\n",
              "    }\n",
              "\n",
              "    .colab-df-convert {\n",
              "      background-color: #E8F0FE;\n",
              "      border: none;\n",
              "      border-radius: 50%;\n",
              "      cursor: pointer;\n",
              "      display: none;\n",
              "      fill: #1967D2;\n",
              "      height: 32px;\n",
              "      padding: 0 0 0 0;\n",
              "      width: 32px;\n",
              "    }\n",
              "\n",
              "    .colab-df-convert:hover {\n",
              "      background-color: #E2EBFA;\n",
              "      box-shadow: 0px 1px 2px rgba(60, 64, 67, 0.3), 0px 1px 3px 1px rgba(60, 64, 67, 0.15);\n",
              "      fill: #174EA6;\n",
              "    }\n",
              "\n",
              "    [theme=dark] .colab-df-convert {\n",
              "      background-color: #3B4455;\n",
              "      fill: #D2E3FC;\n",
              "    }\n",
              "\n",
              "    [theme=dark] .colab-df-convert:hover {\n",
              "      background-color: #434B5C;\n",
              "      box-shadow: 0px 1px 3px 1px rgba(0, 0, 0, 0.15);\n",
              "      filter: drop-shadow(0px 1px 2px rgba(0, 0, 0, 0.3));\n",
              "      fill: #FFFFFF;\n",
              "    }\n",
              "  </style>\n",
              "\n",
              "      <script>\n",
              "        const buttonEl =\n",
              "          document.querySelector('#df-afe727de-6685-4f6b-b6df-0a2bbd3b8162 button.colab-df-convert');\n",
              "        buttonEl.style.display =\n",
              "          google.colab.kernel.accessAllowed ? 'block' : 'none';\n",
              "\n",
              "        async function convertToInteractive(key) {\n",
              "          const element = document.querySelector('#df-afe727de-6685-4f6b-b6df-0a2bbd3b8162');\n",
              "          const dataTable =\n",
              "            await google.colab.kernel.invokeFunction('convertToInteractive',\n",
              "                                                     [key], {});\n",
              "          if (!dataTable) return;\n",
              "\n",
              "          const docLinkHtml = 'Like what you see? Visit the ' +\n",
              "            '<a target=\"_blank\" href=https://colab.research.google.com/notebooks/data_table.ipynb>data table notebook</a>'\n",
              "            + ' to learn more about interactive tables.';\n",
              "          element.innerHTML = '';\n",
              "          dataTable['output_type'] = 'display_data';\n",
              "          await google.colab.output.renderOutput(dataTable, element);\n",
              "          const docLink = document.createElement('div');\n",
              "          docLink.innerHTML = docLinkHtml;\n",
              "          element.appendChild(docLink);\n",
              "        }\n",
              "      </script>\n",
              "    </div>\n",
              "  </div>\n",
              "  "
            ]
          },
          "metadata": {},
          "execution_count": 185
        }
      ]
    },
    {
      "cell_type": "markdown",
      "source": [
        "### Continuous variables"
      ],
      "metadata": {
        "id": "k82PLgmWCiey"
      }
    },
    {
      "cell_type": "code",
      "source": [
        "fig = plt.figure(figsize=(15,5))\n",
        "\n",
        "plt.subplot(1,3,1)\n",
        "plt.title(\"views\")\n",
        "sns.distplot(x= raw_data['views'])\n",
        "\n",
        "plt.subplot(1,3,2)\n",
        "plt.title(\"number of comments\")\n",
        "sns.distplot(x= raw_data['comments'])\n",
        "\n",
        "plt.subplot(1,3,3)\n",
        "plt.title(\"duration of talk\")\n",
        "sns.distplot(x= raw_data['duration'])\n",
        "\n",
        "plt.show()"
      ],
      "metadata": {
        "colab": {
          "base_uri": "https://localhost:8080/",
          "height": 351
        },
        "id": "r0H-tmHLBiVT",
        "outputId": "b7b7adac-85e3-49a8-8844-7fc3ccf83b24"
      },
      "execution_count": null,
      "outputs": [
        {
          "output_type": "display_data",
          "data": {
            "text/plain": [
              "<Figure size 1080x360 with 3 Axes>"
            ],
            "image/png": "[encoded data removed]"
          },
          "metadata": {
            "needs_background": "light"
          }
        }
      ]
    },
    {
      "cell_type": "markdown",
      "source": [
        "#***Bivariate analysis with dependent variable***"
      ],
      "metadata": {
        "id": "YNPoIOy-1YGW"
      }
    },
    {
      "cell_type": "markdown",
      "source": [
        "\n",
        "\n",
        "##   speaker_1 vs views\n",
        "\n"
      ],
      "metadata": {
        "id": "XnIYol541tHz"
      }
    },
    {
      "cell_type": "code",
      "source": [
        "#top 25 speakers\n",
        "temp=raw_data.groupby(['speaker_1'],as_index=False)['daily_views'].sum().sort_values('daily_views',ascending=False)[:5]\n",
        "plt.figure(figsize=(8,6))\n",
        "ax=sns.barplot(x='speaker_1', y='daily_views',data=temp)\n",
        "plt.setp(ax.get_xticklabels(), rotation=50);\n",
        "plt.title('Top 5 speaker according to daily_views')\n",
        "ax.grid(False)"
      ],
      "metadata": {
        "colab": {
          "base_uri": "https://localhost:8080/",
          "height": 490
        },
        "id": "L9czE5sV1XwA",
        "outputId": "e9697794-5954-4922-f7a1-552072d18039"
      },
      "execution_count": null,
      "outputs": [
        {
          "output_type": "display_data",
          "data": {
            "text/plain": [
              "<Figure size 576x432 with 1 Axes>"
            ],
            "image/png": "[encoded data removed]"
          },
          "metadata": {
            "needs_background": "light"
          }
        }
      ]
    },
    {
      "cell_type": "markdown",
      "source": [
        "### Speaker Vs Number of talks delivered"
      ],
      "metadata": {
        "id": "8e1MMSRKCy6K"
      }
    },
    {
      "cell_type": "code",
      "source": [
        "data_speaker_count=pd.DataFrame(raw_data['speaker_1'].value_counts()).reset_index().rename(columns=({'index':'Speaker','speaker_1':'Number of talks'}))"
      ],
      "metadata": {
        "id": "y72lvLVWNtH-"
      },
      "execution_count": null,
      "outputs": []
    },
    {
      "cell_type": "code",
      "source": [
        "most_talks = data_speaker_count.nlargest(5, 'Number of talks')\n",
        "plt.figure(figsize=(10,6))\n",
        "sns.barplot(x = 'Speaker', y = 'Number of talks', data = most_talks)\n",
        "plt.show()"
      ],
      "metadata": {
        "colab": {
          "base_uri": "https://localhost:8080/",
          "height": 394
        },
        "id": "Jvukw-DA5Sin",
        "outputId": "141712bf-c2b0-4254-9644-444729c61887"
      },
      "execution_count": null,
      "outputs": [
        {
          "output_type": "display_data",
          "data": {
            "text/plain": [
              "<Figure size 720x432 with 1 Axes>"
            ],
            "image/png": "[encoded data removed]"
          },
          "metadata": {
            "needs_background": "light"
          }
        }
      ]
    },
    {
      "cell_type": "markdown",
      "source": [
        "### speaker vs duration"
      ],
      "metadata": {
        "id": "UfVHlt1_C8qb"
      }
    },
    {
      "cell_type": "code",
      "source": [
        "temp=raw_data.groupby(['speaker_1'],as_index=False)['duration'].sum().sort_values('duration',ascending=False)[:25]\n",
        "temp=raw_data.groupby(['speaker_1'],as_index=False).agg({'duration':'sum','talk_id':'count'}).sort_values('duration',ascending=False).reset_index()[:8]\n",
        "temp['talk_id']=temp['duration']/temp['talk_id']\n",
        "plt.figure(figsize=(15,6))\n",
        "ax=sns.barplot(x='speaker_1',y='duration',data=temp)\n",
        "labels=ax.get_xticklabels()\n",
        "plt.setp(labels, rotation=70);"
      ],
      "metadata": {
        "colab": {
          "base_uri": "https://localhost:8080/",
          "height": 480
        },
        "id": "rxTnc01uC8bL",
        "outputId": "0bf0e03d-cc8e-4c29-db79-53c6c9cd746e"
      },
      "execution_count": null,
      "outputs": [
        {
          "output_type": "display_data",
          "data": {
            "text/plain": [
              "<Figure size 1080x432 with 1 Axes>"
            ],
            "image/png": "[encoded data removed]"
          },
          "metadata": {
            "needs_background": "light"
          }
        }
      ]
    },
    {
      "cell_type": "markdown",
      "source": [
        "### Speaker vs comments"
      ],
      "metadata": {
        "id": "REELj4PxJhfN"
      }
    },
    {
      "cell_type": "code",
      "source": [
        "temp=raw_data.groupby(['speaker_1'],as_index=False)['comments'].sum().sort_values('comments',ascending=False)[:5]\n",
        "plt.figure(figsize=(10,6))\n",
        "ax=sns.barplot(x='speaker_1',y='comments',data=temp);\n",
        "plt.setp(ax.get_xticklabels(), rotation=70);\n",
        "plt.title('Most popular speaker according to views',fontsize=20)\n",
        "plt.show()"
      ],
      "metadata": {
        "colab": {
          "base_uri": "https://localhost:8080/",
          "height": 495
        },
        "id": "6GGX7LK3DMhz",
        "outputId": "b3b20bf0-971b-4bd1-943d-95dcc6e0837d"
      },
      "execution_count": null,
      "outputs": [
        {
          "output_type": "display_data",
          "data": {
            "text/plain": [
              "<Figure size 720x432 with 1 Axes>"
            ],
            "image/png": "[encoded data removed]"
          },
          "metadata": {
            "needs_background": "light"
          }
        }
      ]
    },
    {
      "cell_type": "markdown",
      "source": [
        "### Speaker vs Average Views"
      ],
      "metadata": {
        "id": "snA1M4WLKVjF"
      }
    },
    {
      "cell_type": "code",
      "source": [
        "# Speaker most popular video\n",
        "temp=raw_data[['speaker_1','views']].sort_values('views',ascending=False)[:5]\n",
        "plt.figure(figsize=(8,6))\n",
        "ax=sns.barplot(x='speaker_1',y='views',data=temp)\n",
        "plt.setp(ax.get_xticklabels(), rotation=60);\n",
        "plt.title('Speaker_1 with most popular video')\n",
        "plt.ylabel('Avg views in ten millions')\n",
        "ax.grid(False)"
      ],
      "metadata": {
        "colab": {
          "base_uri": "https://localhost:8080/",
          "height": 485
        },
        "id": "tw5mdL57C8J1",
        "outputId": "09cb1e17-e486-4ca8-c284-7521e29348e6"
      },
      "execution_count": null,
      "outputs": [
        {
          "output_type": "display_data",
          "data": {
            "text/plain": [
              "<Figure size 576x432 with 1 Axes>"
            ],
            "image/png": "[encoded data removed]"
          },
          "metadata": {
            "needs_background": "light"
          }
        }
      ]
    },
    {
      "cell_type": "markdown",
      "source": [
        "## **Target Encoding**\n",
        "\n",
        "### ***Target encoding is the process of replacing a catgorical variable values with the mean of the target (dependent variable) variable***"
      ],
      "metadata": {
        "id": "jBDTA9mnTpoa"
      }
    },
    {
      "cell_type": "markdown",
      "source": [
        "### Applying Target encoding on speaker_1"
      ],
      "metadata": {
        "id": "RKXRss8EYr6i"
      }
    },
    {
      "cell_type": "code",
      "source": [
        "speaker=raw_data.groupby('speaker_1').agg({'daily_views' : 'mean'}).sort_values(['daily_views'],ascending=False)\n",
        "speaker=speaker.to_dict()\n",
        "speaker=speaker.values()\n",
        "speaker=  list(speaker)[0]\n",
        "raw_data['speaker_1_avg_views']=raw_data['speaker_1'].map(speaker)"
      ],
      "metadata": {
        "id": "idXromrXC8GD"
      },
      "execution_count": null,
      "outputs": []
    },
    {
      "cell_type": "code",
      "source": [
        "plt.figure(figsize=(10,5))\n",
        "sns.distplot(raw_data['speaker_1_avg_views'])\n",
        "plt.show()"
      ],
      "metadata": {
        "colab": {
          "base_uri": "https://localhost:8080/",
          "height": 339
        },
        "id": "ZVroPxQ6ZOi-",
        "outputId": "58388f35-507a-4c34-a512-7ca57b5763e9"
      },
      "execution_count": null,
      "outputs": [
        {
          "output_type": "display_data",
          "data": {
            "text/plain": [
              "<Figure size 720x360 with 1 Axes>"
            ],
            "image/png": "[encoded data removed]"
          },
          "metadata": {
            "needs_background": "light"
          }
        }
      ]
    },
    {
      "cell_type": "markdown",
      "source": [
        "## **Event**\n",
        "\n",
        "### Event is also a catagorical variable, therefore we also apply target encoding on it. "
      ],
      "metadata": {
        "id": "Y_pBmv0xalnt"
      }
    },
    {
      "cell_type": "code",
      "source": [
        "event=raw_data.groupby('event').agg({'daily_views' : 'mean'}).sort_values(['daily_views'],ascending=False)\n",
        "event=event.to_dict()\n",
        "event=event.values()\n",
        "event=  list(event)[0]\n",
        "raw_data['event_wise_avg_views']=raw_data['event'].map(event)"
      ],
      "metadata": {
        "id": "kmyn_PBhZOgT"
      },
      "execution_count": null,
      "outputs": []
    },
    {
      "cell_type": "code",
      "source": [
        "plt.figure(figsize=(10,5))\n",
        "sns.distplot(raw_data['event_wise_avg_views'])\n",
        "plt.show()"
      ],
      "metadata": {
        "colab": {
          "base_uri": "https://localhost:8080/",
          "height": 339
        },
        "id": "ya7702qbZOc3",
        "outputId": "293ac23c-cb9d-4d66-95c6-b01d72019201"
      },
      "execution_count": null,
      "outputs": [
        {
          "output_type": "display_data",
          "data": {
            "text/plain": [
              "<Figure size 720x360 with 1 Axes>"
            ],
            "image/png": "[encoded data removed]"
          },
          "metadata": {
            "needs_background": "light"
          }
        }
      ]
    },
    {
      "cell_type": "markdown",
      "source": [
        "## **Top 10 Ted Talk events**"
      ],
      "metadata": {
        "id": "qyjvUHVfbwZB"
      }
    },
    {
      "cell_type": "code",
      "source": [
        "temp=raw_data.groupby(['event','publish_year'],as_index=False).agg({'daily_views':'sum','talk_id':'count'}).sort_values('daily_views',ascending=False).reset_index()[:8]\n",
        "temp['talk_id']=temp['daily_views']/temp['talk_id']\n",
        "plt.figure(figsize=(10,6))\n",
        "ax=sns.barplot(x='event',y='daily_views',data=temp)\n",
        "labels=ax.get_xticklabels()\n",
        "plt.title('Top TED Events by daily_views')\n",
        "plt.ylabel('daily_views in million')\n",
        "plt.setp(labels, rotation=50);"
      ],
      "metadata": {
        "colab": {
          "base_uri": "https://localhost:8080/",
          "height": 500
        },
        "id": "SzBQoYVfbwHw",
        "outputId": "ee392156-eb3b-49ee-e1a3-8e53c3be1173"
      },
      "execution_count": null,
      "outputs": [
        {
          "output_type": "display_data",
          "data": {
            "text/plain": [
              "<Figure size 720x432 with 1 Axes>"
            ],
            "image/png": "[encoded data removed]"
          },
          "metadata": {
            "needs_background": "light"
          }
        }
      ]
    },
    {
      "cell_type": "code",
      "source": [
        "plt.figure(figsize=(10,6))\n",
        "ax=sns.barplot(x='event',y='talk_id',data=temp)\n",
        "labels=ax.get_xticklabels()\n",
        "plt.title('Top TED Events by Average daily_views')\n",
        "plt.xlabel('Events')\n",
        "plt.ylabel('Avg daily_views in millions')\n",
        "plt.show()"
      ],
      "metadata": {
        "colab": {
          "base_uri": "https://localhost:8080/",
          "height": 410
        },
        "id": "mKFWYWcYbv3m",
        "outputId": "990b1a7a-9903-417a-b62b-1148cb8daaf4"
      },
      "execution_count": null,
      "outputs": [
        {
          "output_type": "display_data",
          "data": {
            "text/plain": [
              "<Figure size 720x432 with 1 Axes>"
            ],
            "image/png": "[encoded data removed]"
          },
          "metadata": {
            "needs_background": "light"
          }
        }
      ]
    },
    {
      "cell_type": "markdown",
      "source": [
        "#**available_language variable** \n",
        "\n"
      ],
      "metadata": {
        "id": "z_wpOYaye0eD"
      }
    },
    {
      "cell_type": "code",
      "source": [
        "raw_data['number_of_lang'] = raw_data['available_lang'].apply(lambda x: len(x))\n",
        "sns.distplot(raw_data['number_of_lang'])\n",
        "plt.show()"
      ],
      "metadata": {
        "colab": {
          "base_uri": "https://localhost:8080/",
          "height": 285
        },
        "id": "vSdjTOgFe0FC",
        "outputId": "94a87d74-df7e-4bae-ec7a-51eddbe1d84d"
      },
      "execution_count": null,
      "outputs": [
        {
          "output_type": "display_data",
          "data": {
            "text/plain": [
              "<Figure size 504x288 with 1 Axes>"
            ],
            "image/png": "[encoded data removed]"
          },
          "metadata": {
            "needs_background": "light"
          }
        }
      ]
    },
    {
      "cell_type": "markdown",
      "source": [
        "##**Topic variable**"
      ],
      "metadata": {
        "id": "gH4IZqZrfuzI"
      }
    },
    {
      "cell_type": "code",
      "source": [
        "raw_data['topics'] = raw_data.apply(lambda x: eval(x['topics']), axis=1)\n",
        "raw_data['num_of_topics'] = raw_data.apply(lambda x: len(x['topics']), axis=1)\n",
        "# graph:\n",
        "plt.figure(figsize=(10,5))\n",
        "sns.distplot(raw_data['num_of_topics'])"
      ],
      "metadata": {
        "colab": {
          "base_uri": "https://localhost:8080/",
          "height": 356
        },
        "id": "7YIFctvre0CA",
        "outputId": "d674be07-136c-48d5-c6c0-335ea0ae544b"
      },
      "execution_count": null,
      "outputs": [
        {
          "output_type": "execute_result",
          "data": {
            "text/plain": [
              "<matplotlib.axes._subplots.AxesSubplot at 0x7fe7740a8290>"
            ]
          },
          "metadata": {},
          "execution_count": 200
        },
        {
          "output_type": "display_data",
          "data": {
            "text/plain": [
              "<Figure size 720x360 with 1 Axes>"
            ],
            "image/png": "[encoded data removed]"
          },
          "metadata": {
            "needs_background": "light"
          }
        }
      ]
    },
    {
      "cell_type": "markdown",
      "source": [
        "###***Unique Topics***"
      ],
      "metadata": {
        "id": "2b9cipa1iKcU"
      }
    },
    {
      "cell_type": "code",
      "source": [
        "#Checking for unique topic\n",
        "unique_topics=[]\n",
        "for i in range(0,len(raw_data)):\n",
        "  temp=raw_data['topics'][i]\n",
        "  for i in temp:\n",
        "    if(i not in unique_topics):\n",
        "      unique_topics.append(i)\n",
        "      \n",
        "len(unique_topics)"
      ],
      "metadata": {
        "colab": {
          "base_uri": "https://localhost:8080/"
        },
        "id": "D5YWQ5a7ez_J",
        "outputId": "56f64f82-104b-4460-ab93-b4b541fb16b6"
      },
      "execution_count": null,
      "outputs": [
        {
          "output_type": "execute_result",
          "data": {
            "text/plain": [
              "457"
            ]
          },
          "metadata": {},
          "execution_count": 201
        }
      ]
    },
    {
      "cell_type": "code",
      "source": [
        "#fetching the avg views w.r.t each topic in another dict unique_topics_avg_view_dict\n",
        "unique_topics_avg_view_dict={}\n",
        "for topic in unique_topics:\n",
        "  temp=0\n",
        "  count=0\n",
        "  for i in range(0,len(raw_data)):\n",
        "    temp2=raw_data['topics'][i]\n",
        "    if(topic in temp2):\n",
        "      temp+=raw_data['daily_views'][i]\n",
        "      count+=1\n",
        "  unique_topics_avg_view_dict[topic]=temp//count"
      ],
      "metadata": {
        "id": "dw90WCMSbvzA"
      },
      "execution_count": null,
      "outputs": []
    },
    {
      "cell_type": "code",
      "source": [
        "#storing the avg views w.r.t topic for each talk\n",
        "topics_wise_avg_views=[]\n",
        "for i in range(0,len(raw_data)):\n",
        "  temp=0\n",
        "  temp_topic=raw_data['topics'][i]\n",
        "  for ele in temp_topic:\n",
        "    temp+=unique_topics_avg_view_dict[ele]\n",
        "  \n",
        "  topics_wise_avg_views.append(temp//len(temp_topic))\n",
        "\n",
        "se = pd.Series(topics_wise_avg_views)\n",
        "raw_data['topics_wise_avg_views'] = se.values"
      ],
      "metadata": {
        "id": "6EaG6tKfisUN"
      },
      "execution_count": null,
      "outputs": []
    },
    {
      "cell_type": "code",
      "source": [
        "# Graph:\n",
        "plt.figure(figsize=(10,4))\n",
        "sns.distplot(raw_data['topics_wise_avg_views'])"
      ],
      "metadata": {
        "colab": {
          "base_uri": "https://localhost:8080/",
          "height": 302
        },
        "id": "3yDQrMYUisFj",
        "outputId": "8a08f180-6dc8-4b55-a1b3-b9fe9e85f5a7"
      },
      "execution_count": null,
      "outputs": [
        {
          "output_type": "execute_result",
          "data": {
            "text/plain": [
              "<matplotlib.axes._subplots.AxesSubplot at 0x7fe7748f0e50>"
            ]
          },
          "metadata": {},
          "execution_count": 204
        },
        {
          "output_type": "display_data",
          "data": {
            "text/plain": [
              "<Figure size 720x288 with 1 Axes>"
            ],
            "image/png": "[encoded data removed]"
          },
          "metadata": {
            "needs_background": "light"
          }
        }
      ]
    },
    {
      "cell_type": "markdown",
      "source": [
        "## ***related_talks variable***"
      ],
      "metadata": {
        "id": "eU7XLVuwkcs8"
      }
    },
    {
      "cell_type": "code",
      "source": [
        "raw_data['related_talks'] = raw_data['related_talks'].apply(lambda x: ast.literal_eval(x))"
      ],
      "metadata": {
        "id": "4Kr1HTq_kzRW"
      },
      "execution_count": null,
      "outputs": []
    },
    {
      "cell_type": "markdown",
      "source": [
        "####**Related talk column contains a dictionary containing information about related videos with talk_id as key and video name as it's value. taking mean of all realated talk videos views**"
      ],
      "metadata": {
        "id": "HdoVWwOpsL1r"
      }
    },
    {
      "cell_type": "code",
      "source": [
        "#defining a new feature called related_views\n",
        "raw_data['related_views'] = 0\n",
        "#iterating through the each row and extracting the value of related_talks\n",
        "for index, row in raw_data.iterrows():\n",
        "    id_list=list(row['related_talks'].keys())\n",
        "    temp=0\n",
        "    for i in range(len(raw_data)):\n",
        "      if (raw_data.loc[i,'talk_id']) in id_list:\n",
        "        temp+=raw_data.loc[i,'daily_views']\n",
        "\n",
        "    raw_data.loc[index,'related_views']=temp//6"
      ],
      "metadata": {
        "id": "lEuw434LkzOC"
      },
      "execution_count": null,
      "outputs": []
    },
    {
      "cell_type": "code",
      "source": [
        "#Graph of related_views column\n",
        "plt.figure(figsize=(10,5))\n",
        "sns.distplot(raw_data['related_views'])\n",
        "plt.show()"
      ],
      "metadata": {
        "colab": {
          "base_uri": "https://localhost:8080/",
          "height": 339
        },
        "id": "i6j8uf7FnOxP",
        "outputId": "10827378-cc43-4a4d-b0a4-70c6a4133af8"
      },
      "execution_count": null,
      "outputs": [
        {
          "output_type": "display_data",
          "data": {
            "text/plain": [
              "<Figure size 720x360 with 1 Axes>"
            ],
            "image/png": "[encoded data removed]"
          },
          "metadata": {
            "needs_background": "light"
          }
        }
      ]
    },
    {
      "cell_type": "code",
      "source": [],
      "metadata": {
        "id": "qNMRzPCfnOuL"
      },
      "execution_count": null,
      "outputs": []
    },
    {
      "cell_type": "markdown",
      "source": [
        "##***Feature Engineering and Data Preprocessing***"
      ],
      "metadata": {
        "id": "WkYF-L5fcldw"
      }
    },
    {
      "cell_type": "code",
      "source": [
        "# removing outliers for views\n",
        "q=data['views'].quantile(0.99)\n",
        "data_1=data[data['views']<q]"
      ],
      "metadata": {
        "id": "tSrH1-1CBiYM"
      },
      "execution_count": null,
      "outputs": []
    },
    {
      "cell_type": "code",
      "source": [
        "# removing outliers for comments\n",
        "q=data_1['comments'].quantile(0.99)\n",
        "data_2=data_1[data_1['comments']<q]"
      ],
      "metadata": {
        "id": "lpyQYCp1Biaj"
      },
      "execution_count": null,
      "outputs": []
    },
    {
      "cell_type": "code",
      "source": [
        "# removing outliers for duration\n",
        "q=data_2['duration'].quantile(0.99)\n",
        "data_3=data_2[data_2['duration']<q]"
      ],
      "metadata": {
        "id": "6ETGKok6NQA_"
      },
      "execution_count": null,
      "outputs": []
    },
    {
      "cell_type": "code",
      "source": [
        "fig = plt.figure(figsize=(15,5))\n",
        "\n",
        "plt.subplot(1,3,1)\n",
        "plt.title(\"views\")\n",
        "sns.distplot(x= data_3['views'])\n",
        "\n",
        "plt.subplot(1,3,2)\n",
        "plt.title(\"number of comments\")\n",
        "sns.distplot(x= data_3['comments'])\n",
        "\n",
        "plt.subplot(1,3,3)\n",
        "plt.title(\"duration of talk\")\n",
        "sns.distplot(x= data_3['duration'])\n",
        "\n",
        "plt.show()"
      ],
      "metadata": {
        "colab": {
          "base_uri": "https://localhost:8080/",
          "height": 351
        },
        "id": "IrlASjPvNmZ7",
        "outputId": "d36a7c3e-dd90-4307-a9ae-57fa90fb3ec4"
      },
      "execution_count": null,
      "outputs": [
        {
          "output_type": "display_data",
          "data": {
            "text/plain": [
              "<Figure size 1080x360 with 3 Axes>"
            ],
            "image/png": "[encoded data removed]"
          },
          "metadata": {
            "needs_background": "light"
          }
        }
      ]
    },
    {
      "cell_type": "code",
      "source": [
        "data_3['log_views']=np.log(data_3['views'])\n",
        "data_3['log_comments']=np.log(data_3['comments'])\n",
        "data_3['log_duration']=np.log(data_3['duration'])"
      ],
      "metadata": {
        "id": "PzS5U2K_NtBA"
      },
      "execution_count": null,
      "outputs": []
    },
    {
      "cell_type": "code",
      "source": [
        "fig = plt.figure(figsize=(15,5))\n",
        "\n",
        "plt.subplot(1,3,1)\n",
        "plt.title(\"views\")\n",
        "sns.histplot(x= data_3['log_views'])\n",
        "\n",
        "plt.subplot(1,3,2)\n",
        "plt.title(\"number of comments\")\n",
        "sns.histplot(x= data_3['log_comments'])\n",
        "\n",
        "plt.subplot(1,3,3)\n",
        "plt.title(\"duration of talk\")\n",
        "sns.histplot(x= data_3['log_duration'])\n",
        "\n",
        "plt.show()"
      ],
      "metadata": {
        "colab": {
          "base_uri": "https://localhost:8080/",
          "height": 355
        },
        "id": "kOovrfudNtDc",
        "outputId": "bfa0bb1e-e887-4627-b0c9-3dcc1167a6ab"
      },
      "execution_count": null,
      "outputs": [
        {
          "output_type": "display_data",
          "data": {
            "text/plain": [
              "<Figure size 1080x360 with 3 Axes>"
            ],
            "image/png": "[encoded data removed]"
          },
          "metadata": {
            "needs_background": "light"
          }
        }
      ]
    },
    {
      "cell_type": "code",
      "source": [
        "data_3.describe(include='all')"
      ],
      "metadata": {
        "colab": {
          "base_uri": "https://localhost:8080/",
          "height": 637
        },
        "id": "Nv8txN5cTAFT",
        "outputId": "87c8fc2f-c261-49db-fe6b-2289c273dc27"
      },
      "execution_count": null,
      "outputs": [
        {
          "output_type": "execute_result",
          "data": {
            "text/plain": [
              "             talk_id                        title     speaker_1  \\\n",
              "count    3237.000000                         3237          3237   \n",
              "unique           NaN                         3237          2774   \n",
              "top              NaN  Averting the climate crisis  Hans Rosling   \n",
              "freq             NaN                            1            10   \n",
              "first            NaN                          NaN           NaN   \n",
              "last             NaN                          NaN           NaN   \n",
              "mean     8956.287921                          NaN           NaN   \n",
              "std     15703.555393                          NaN           NaN   \n",
              "min         1.000000                          NaN           NaN   \n",
              "25%      1103.000000                          NaN           NaN   \n",
              "50%      2003.000000                          NaN           NaN   \n",
              "75%      3579.000000                          NaN           NaN   \n",
              "max     62748.000000                          NaN           NaN   \n",
              "\n",
              "               all_speakers      occupations  \\\n",
              "count                  3237             3237   \n",
              "unique                 2799             1951   \n",
              "top     {0: 'Hans Rosling'}  {0: ['writer']}   \n",
              "freq                      9               48   \n",
              "first                   NaN              NaN   \n",
              "last                    NaN              NaN   \n",
              "mean                    NaN              NaN   \n",
              "std                     NaN              NaN   \n",
              "min                     NaN              NaN   \n",
              "25%                     NaN              NaN   \n",
              "50%                     NaN              NaN   \n",
              "75%                     NaN              NaN   \n",
              "max                     NaN              NaN   \n",
              "\n",
              "                                           about_speakers         views  \\\n",
              "count                                                3237  3.237000e+03   \n",
              "unique                                               2801           NaN   \n",
              "top     {0: 'Juan Enriquez thinks and writes about the...           NaN   \n",
              "freq                                                    9           NaN   \n",
              "first                                                 NaN           NaN   \n",
              "last                                                  NaN           NaN   \n",
              "mean                                                  NaN  1.875494e+06   \n",
              "std                                                   NaN  1.804008e+06   \n",
              "min                                                   NaN  1.065450e+05   \n",
              "25%                                                   NaN  9.533950e+05   \n",
              "50%                                                   NaN  1.398326e+06   \n",
              "75%                                                   NaN  2.047296e+06   \n",
              "max                                                   NaN  1.605858e+07   \n",
              "\n",
              "              recorded_date       published_date    event  ...  \\\n",
              "count                  3237                 3237     3237  ...   \n",
              "unique                  851                 2856      418  ...   \n",
              "top     2018-04-10 00:00:00  2007-04-05 00:00:00  TED2018  ...   \n",
              "freq                     95                   19       95  ...   \n",
              "first   1984-02-02 00:00:00  2006-06-27 00:00:00      NaN  ...   \n",
              "last    2020-04-22 00:00:00  2020-04-28 00:00:00      NaN  ...   \n",
              "mean                    NaN                  NaN      NaN  ...   \n",
              "std                     NaN                  NaN      NaN  ...   \n",
              "min                     NaN                  NaN      NaN  ...   \n",
              "25%                     NaN                  NaN      NaN  ...   \n",
              "50%                     NaN                  NaN      NaN  ...   \n",
              "75%                     NaN                  NaN      NaN  ...   \n",
              "max                     NaN                  NaN      NaN  ...   \n",
              "\n",
              "         time_passed_since_published publish_month  publish_year  publish_day  \\\n",
              "count                           3237          3237   3237.000000  3237.000000   \n",
              "unique                           NaN            12           NaN          NaN   \n",
              "top                              NaN           Apr           NaN          NaN   \n",
              "freq                             NaN           313           NaN          NaN   \n",
              "first                            NaN           NaN           NaN          NaN   \n",
              "last                             NaN           NaN           NaN          NaN   \n",
              "mean    2194 days 17:24:58.053753440           NaN   2013.833179    15.448563   \n",
              "std     1392 days 02:35:17.333954720           NaN      3.828118     8.606970   \n",
              "min                  0 days 00:00:00           NaN   2006.000000     1.000000   \n",
              "25%                908 days 00:00:00           NaN   2011.000000     8.000000   \n",
              "50%               2162 days 00:00:00           NaN   2014.000000    15.000000   \n",
              "75%               3318 days 00:00:00           NaN   2017.000000    23.000000   \n",
              "max               5054 days 00:00:00           NaN   2020.000000    31.000000   \n",
              "\n",
              "       publish_week_day    daily_views related_views    log_views  \\\n",
              "count              3237    3237.000000        3237.0  3237.000000   \n",
              "unique                7            NaN           NaN          NaN   \n",
              "top                 Tue            NaN           NaN          NaN   \n",
              "freq                713            NaN           NaN          NaN   \n",
              "first               NaN            NaN           NaN          NaN   \n",
              "last                NaN            NaN           NaN          NaN   \n",
              "mean                NaN    2440.416013           0.0    14.159557   \n",
              "std                 NaN   10775.529098           0.0     0.733284   \n",
              "min                 NaN      35.198216           0.0    11.576323   \n",
              "25%                 NaN     373.552928           0.0    13.767785   \n",
              "50%                 NaN     862.778409           0.0    14.150786   \n",
              "75%                 NaN    1909.920578           0.0    14.532030   \n",
              "max                 NaN  464414.000000           0.0    16.591754   \n",
              "\n",
              "       log_comments log_duration  \n",
              "count   3237.000000  3237.000000  \n",
              "unique          NaN          NaN  \n",
              "top             NaN          NaN  \n",
              "freq            NaN          NaN  \n",
              "first           NaN          NaN  \n",
              "last            NaN          NaN  \n",
              "mean           -inf     6.565184  \n",
              "std             NaN     0.457655  \n",
              "min            -inf     4.905275  \n",
              "25%        3.610918     6.345636  \n",
              "50%        4.454347     6.674561  \n",
              "75%        5.192957     6.904751  \n",
              "max        6.865891     7.396335  \n",
              "\n",
              "[13 rows x 29 columns]"
            ],
            "text/html": [
              "\n",
              "  <div id=\"df-1d034f17-1baa-4864-9870-99f9d2dc7067\">\n",
              "    <div class=\"colab-df-container\">\n",
              "      <div>\n",
              "<style scoped>\n",
              "    .dataframe tbody tr th:only-of-type {\n",
              "        vertical-align: middle;\n",
              "    }\n",
              "\n",
              "    .dataframe tbody tr th {\n",
              "        vertical-align: top;\n",
              "    }\n",
              "\n",
              "    .dataframe thead th {\n",
              "        text-align: right;\n",
              "    }\n",
              "</style>\n",
              "<table border=\"1\" class=\"dataframe\">\n",
              "  <thead>\n",
              "    <tr style=\"text-align: right;\">\n",
              "      <th></th>\n",
              "      <th>talk_id</th>\n",
              "      <th>title</th>\n",
              "      <th>speaker_1</th>\n",
              "      <th>all_speakers</th>\n",
              "      <th>occupations</th>\n",
              "      <th>about_speakers</th>\n",
              "      <th>views</th>\n",
              "      <th>recorded_date</th>\n",
              "      <th>published_date</th>\n",
              "      <th>event</th>\n",
              "      <th>...</th>\n",
              "      <th>time_passed_since_published</th>\n",
              "      <th>publish_month</th>\n",
              "      <th>publish_year</th>\n",
              "      <th>publish_day</th>\n",
              "      <th>publish_week_day</th>\n",
              "      <th>daily_views</th>\n",
              "      <th>related_views</th>\n",
              "      <th>log_views</th>\n",
              "      <th>log_comments</th>\n",
              "      <th>log_duration</th>\n",
              "    </tr>\n",
              "  </thead>\n",
              "  <tbody>\n",
              "    <tr>\n",
              "      <th>count</th>\n",
              "      <td>3237.000000</td>\n",
              "      <td>3237</td>\n",
              "      <td>3237</td>\n",
              "      <td>3237</td>\n",
              "      <td>3237</td>\n",
              "      <td>3237</td>\n",
              "      <td>3.237000e+03</td>\n",
              "      <td>3237</td>\n",
              "      <td>3237</td>\n",
              "      <td>3237</td>\n",
              "      <td>...</td>\n",
              "      <td>3237</td>\n",
              "      <td>3237</td>\n",
              "      <td>3237.000000</td>\n",
              "      <td>3237.000000</td>\n",
              "      <td>3237</td>\n",
              "      <td>3237.000000</td>\n",
              "      <td>3237.0</td>\n",
              "      <td>3237.000000</td>\n",
              "      <td>3237.000000</td>\n",
              "      <td>3237.000000</td>\n",
              "    </tr>\n",
              "    <tr>\n",
              "      <th>unique</th>\n",
              "      <td>NaN</td>\n",
              "      <td>3237</td>\n",
              "      <td>2774</td>\n",
              "      <td>2799</td>\n",
              "      <td>1951</td>\n",
              "      <td>2801</td>\n",
              "      <td>NaN</td>\n",
              "      <td>851</td>\n",
              "      <td>2856</td>\n",
              "      <td>418</td>\n",
              "      <td>...</td>\n",
              "      <td>NaN</td>\n",
              "      <td>12</td>\n",
              "      <td>NaN</td>\n",
              "      <td>NaN</td>\n",
              "      <td>7</td>\n",
              "      <td>NaN</td>\n",
              "      <td>NaN</td>\n",
              "      <td>NaN</td>\n",
              "      <td>NaN</td>\n",
              "      <td>NaN</td>\n",
              "    </tr>\n",
              "    <tr>\n",
              "      <th>top</th>\n",
              "      <td>NaN</td>\n",
              "      <td>Averting the climate crisis</td>\n",
              "      <td>Hans Rosling</td>\n",
              "      <td>{0: 'Hans Rosling'}</td>\n",
              "      <td>{0: ['writer']}</td>\n",
              "      <td>{0: 'Juan Enriquez thinks and writes about the...</td>\n",
              "      <td>NaN</td>\n",
              "      <td>2018-04-10 00:00:00</td>\n",
              "      <td>2007-04-05 00:00:00</td>\n",
              "      <td>TED2018</td>\n",
              "      <td>...</td>\n",
              "      <td>NaN</td>\n",
              "      <td>Apr</td>\n",
              "      <td>NaN</td>\n",
              "      <td>NaN</td>\n",
              "      <td>Tue</td>\n",
              "      <td>NaN</td>\n",
              "      <td>NaN</td>\n",
              "      <td>NaN</td>\n",
              "      <td>NaN</td>\n",
              "      <td>NaN</td>\n",
              "    </tr>\n",
              "    <tr>\n",
              "      <th>freq</th>\n",
              "      <td>NaN</td>\n",
              "      <td>1</td>\n",
              "      <td>10</td>\n",
              "      <td>9</td>\n",
              "      <td>48</td>\n",
              "      <td>9</td>\n",
              "      <td>NaN</td>\n",
              "      <td>95</td>\n",
              "      <td>19</td>\n",
              "      <td>95</td>\n",
              "      <td>...</td>\n",
              "      <td>NaN</td>\n",
              "      <td>313</td>\n",
              "      <td>NaN</td>\n",
              "      <td>NaN</td>\n",
              "      <td>713</td>\n",
              "      <td>NaN</td>\n",
              "      <td>NaN</td>\n",
              "      <td>NaN</td>\n",
              "      <td>NaN</td>\n",
              "      <td>NaN</td>\n",
              "    </tr>\n",
              "    <tr>\n",
              "      <th>first</th>\n",
              "      <td>NaN</td>\n",
              "      <td>NaN</td>\n",
              "      <td>NaN</td>\n",
              "      <td>NaN</td>\n",
              "      <td>NaN</td>\n",
              "      <td>NaN</td>\n",
              "      <td>NaN</td>\n",
              "      <td>1984-02-02 00:00:00</td>\n",
              "      <td>2006-06-27 00:00:00</td>\n",
              "      <td>NaN</td>\n",
              "      <td>...</td>\n",
              "      <td>NaN</td>\n",
              "      <td>NaN</td>\n",
              "      <td>NaN</td>\n",
              "      <td>NaN</td>\n",
              "      <td>NaN</td>\n",
              "      <td>NaN</td>\n",
              "      <td>NaN</td>\n",
              "      <td>NaN</td>\n",
              "      <td>NaN</td>\n",
              "      <td>NaN</td>\n",
              "    </tr>\n",
              "    <tr>\n",
              "      <th>last</th>\n",
              "      <td>NaN</td>\n",
              "      <td>NaN</td>\n",
              "      <td>NaN</td>\n",
              "      <td>NaN</td>\n",
              "      <td>NaN</td>\n",
              "      <td>NaN</td>\n",
              "      <td>NaN</td>\n",
              "      <td>2020-04-22 00:00:00</td>\n",
              "      <td>2020-04-28 00:00:00</td>\n",
              "      <td>NaN</td>\n",
              "      <td>...</td>\n",
              "      <td>NaN</td>\n",
              "      <td>NaN</td>\n",
              "      <td>NaN</td>\n",
              "      <td>NaN</td>\n",
              "      <td>NaN</td>\n",
              "      <td>NaN</td>\n",
              "      <td>NaN</td>\n",
              "      <td>NaN</td>\n",
              "      <td>NaN</td>\n",
              "      <td>NaN</td>\n",
              "    </tr>\n",
              "    <tr>\n",
              "      <th>mean</th>\n",
              "      <td>8956.287921</td>\n",
              "      <td>NaN</td>\n",
              "      <td>NaN</td>\n",
              "      <td>NaN</td>\n",
              "      <td>NaN</td>\n",
              "      <td>NaN</td>\n",
              "      <td>1.875494e+06</td>\n",
              "      <td>NaN</td>\n",
              "      <td>NaN</td>\n",
              "      <td>NaN</td>\n",
              "      <td>...</td>\n",
              "      <td>2194 days 17:24:58.053753440</td>\n",
              "      <td>NaN</td>\n",
              "      <td>2013.833179</td>\n",
              "      <td>15.448563</td>\n",
              "      <td>NaN</td>\n",
              "      <td>2440.416013</td>\n",
              "      <td>0.0</td>\n",
              "      <td>14.159557</td>\n",
              "      <td>-inf</td>\n",
              "      <td>6.565184</td>\n",
              "    </tr>\n",
              "    <tr>\n",
              "      <th>std</th>\n",
              "      <td>15703.555393</td>\n",
              "      <td>NaN</td>\n",
              "      <td>NaN</td>\n",
              "      <td>NaN</td>\n",
              "      <td>NaN</td>\n",
              "      <td>NaN</td>\n",
              "      <td>1.804008e+06</td>\n",
              "      <td>NaN</td>\n",
              "      <td>NaN</td>\n",
              "      <td>NaN</td>\n",
              "      <td>...</td>\n",
              "      <td>1392 days 02:35:17.333954720</td>\n",
              "      <td>NaN</td>\n",
              "      <td>3.828118</td>\n",
              "      <td>8.606970</td>\n",
              "      <td>NaN</td>\n",
              "      <td>10775.529098</td>\n",
              "      <td>0.0</td>\n",
              "      <td>0.733284</td>\n",
              "      <td>NaN</td>\n",
              "      <td>0.457655</td>\n",
              "    </tr>\n",
              "    <tr>\n",
              "      <th>min</th>\n",
              "      <td>1.000000</td>\n",
              "      <td>NaN</td>\n",
              "      <td>NaN</td>\n",
              "      <td>NaN</td>\n",
              "      <td>NaN</td>\n",
              "      <td>NaN</td>\n",
              "      <td>1.065450e+05</td>\n",
              "      <td>NaN</td>\n",
              "      <td>NaN</td>\n",
              "      <td>NaN</td>\n",
              "      <td>...</td>\n",
              "      <td>0 days 00:00:00</td>\n",
              "      <td>NaN</td>\n",
              "      <td>2006.000000</td>\n",
              "      <td>1.000000</td>\n",
              "      <td>NaN</td>\n",
              "      <td>35.198216</td>\n",
              "      <td>0.0</td>\n",
              "      <td>11.576323</td>\n",
              "      <td>-inf</td>\n",
              "      <td>4.905275</td>\n",
              "    </tr>\n",
              "    <tr>\n",
              "      <th>25%</th>\n",
              "      <td>1103.000000</td>\n",
              "      <td>NaN</td>\n",
              "      <td>NaN</td>\n",
              "      <td>NaN</td>\n",
              "      <td>NaN</td>\n",
              "      <td>NaN</td>\n",
              "      <td>9.533950e+05</td>\n",
              "      <td>NaN</td>\n",
              "      <td>NaN</td>\n",
              "      <td>NaN</td>\n",
              "      <td>...</td>\n",
              "      <td>908 days 00:00:00</td>\n",
              "      <td>NaN</td>\n",
              "      <td>2011.000000</td>\n",
              "      <td>8.000000</td>\n",
              "      <td>NaN</td>\n",
              "      <td>373.552928</td>\n",
              "      <td>0.0</td>\n",
              "      <td>13.767785</td>\n",
              "      <td>3.610918</td>\n",
              "      <td>6.345636</td>\n",
              "    </tr>\n",
              "    <tr>\n",
              "      <th>50%</th>\n",
              "      <td>2003.000000</td>\n",
              "      <td>NaN</td>\n",
              "      <td>NaN</td>\n",
              "      <td>NaN</td>\n",
              "      <td>NaN</td>\n",
              "      <td>NaN</td>\n",
              "      <td>1.398326e+06</td>\n",
              "      <td>NaN</td>\n",
              "      <td>NaN</td>\n",
              "      <td>NaN</td>\n",
              "      <td>...</td>\n",
              "      <td>2162 days 00:00:00</td>\n",
              "      <td>NaN</td>\n",
              "      <td>2014.000000</td>\n",
              "      <td>15.000000</td>\n",
              "      <td>NaN</td>\n",
              "      <td>862.778409</td>\n",
              "      <td>0.0</td>\n",
              "      <td>14.150786</td>\n",
              "      <td>4.454347</td>\n",
              "      <td>6.674561</td>\n",
              "    </tr>\n",
              "    <tr>\n",
              "      <th>75%</th>\n",
              "      <td>3579.000000</td>\n",
              "      <td>NaN</td>\n",
              "      <td>NaN</td>\n",
              "      <td>NaN</td>\n",
              "      <td>NaN</td>\n",
              "      <td>NaN</td>\n",
              "      <td>2.047296e+06</td>\n",
              "      <td>NaN</td>\n",
              "      <td>NaN</td>\n",
              "      <td>NaN</td>\n",
              "      <td>...</td>\n",
              "      <td>3318 days 00:00:00</td>\n",
              "      <td>NaN</td>\n",
              "      <td>2017.000000</td>\n",
              "      <td>23.000000</td>\n",
              "      <td>NaN</td>\n",
              "      <td>1909.920578</td>\n",
              "      <td>0.0</td>\n",
              "      <td>14.532030</td>\n",
              "      <td>5.192957</td>\n",
              "      <td>6.904751</td>\n",
              "    </tr>\n",
              "    <tr>\n",
              "      <th>max</th>\n",
              "      <td>62748.000000</td>\n",
              "      <td>NaN</td>\n",
              "      <td>NaN</td>\n",
              "      <td>NaN</td>\n",
              "      <td>NaN</td>\n",
              "      <td>NaN</td>\n",
              "      <td>1.605858e+07</td>\n",
              "      <td>NaN</td>\n",
              "      <td>NaN</td>\n",
              "      <td>NaN</td>\n",
              "      <td>...</td>\n",
              "      <td>5054 days 00:00:00</td>\n",
              "      <td>NaN</td>\n",
              "      <td>2020.000000</td>\n",
              "      <td>31.000000</td>\n",
              "      <td>NaN</td>\n",
              "      <td>464414.000000</td>\n",
              "      <td>0.0</td>\n",
              "      <td>16.591754</td>\n",
              "      <td>6.865891</td>\n",
              "      <td>7.396335</td>\n",
              "    </tr>\n",
              "  </tbody>\n",
              "</table>\n",
              "<p>13 rows × 29 columns</p>\n",
              "</div>\n",
              "      <button class=\"colab-df-convert\" onclick=\"convertToInteractive('df-1d034f17-1baa-4864-9870-99f9d2dc7067')\"\n",
              "              title=\"Convert this dataframe to an interactive table.\"\n",
              "              style=\"display:none;\">\n",
              "        \n",
              "  <svg xmlns=\"http://www.w3.org/2000/svg\" height=\"24px\"viewBox=\"0 0 24 24\"\n",
              "       width=\"24px\">\n",
              "    <path d=\"M0 0h24v24H0V0z\" fill=\"none\"/>\n",
              "    <path d=\"M18.56 5.44l.94 2.06.94-2.06 2.06-.94-2.06-.94-.94-2.06-.94 2.06-2.06.94zm-11 1L8.5 8.5l.94-2.06 2.06-.94-2.06-.94L8.5 2.5l-.94 2.06-2.06.94zm10 10l.94 2.06.94-2.06 2.06-.94-2.06-.94-.94-2.06-.94 2.06-2.06.94z\"/><path d=\"M17.41 7.96l-1.37-1.37c-.4-.4-.92-.59-1.43-.59-.52 0-1.04.2-1.43.59L10.3 9.45l-7.72 7.72c-.78.78-.78 2.05 0 2.83L4 21.41c.39.39.9.59 1.41.59.51 0 1.02-.2 1.41-.59l7.78-7.78 2.81-2.81c.8-.78.8-2.07 0-2.86zM5.41 20L4 18.59l7.72-7.72 1.47 1.35L5.41 20z\"/>\n",
              "  </svg>\n",
              "      </button>\n",
              "      \n",
              "  <style>\n",
              "    .colab-df-container {\n",
              "      display:flex;\n",
              "      flex-wrap:wrap;\n",
              "      gap: 12px;\n",
              "    }\n",
              "\n",
              "    .colab-df-convert {\n",
              "      background-color: #E8F0FE;\n",
              "      border: none;\n",
              "      border-radius: 50%;\n",
              "      cursor: pointer;\n",
              "      display: none;\n",
              "      fill: #1967D2;\n",
              "      height: 32px;\n",
              "      padding: 0 0 0 0;\n",
              "      width: 32px;\n",
              "    }\n",
              "\n",
              "    .colab-df-convert:hover {\n",
              "      background-color: #E2EBFA;\n",
              "      box-shadow: 0px 1px 2px rgba(60, 64, 67, 0.3), 0px 1px 3px 1px rgba(60, 64, 67, 0.15);\n",
              "      fill: #174EA6;\n",
              "    }\n",
              "\n",
              "    [theme=dark] .colab-df-convert {\n",
              "      background-color: #3B4455;\n",
              "      fill: #D2E3FC;\n",
              "    }\n",
              "\n",
              "    [theme=dark] .colab-df-convert:hover {\n",
              "      background-color: #434B5C;\n",
              "      box-shadow: 0px 1px 3px 1px rgba(0, 0, 0, 0.15);\n",
              "      filter: drop-shadow(0px 1px 2px rgba(0, 0, 0, 0.3));\n",
              "      fill: #FFFFFF;\n",
              "    }\n",
              "  </style>\n",
              "\n",
              "      <script>\n",
              "        const buttonEl =\n",
              "          document.querySelector('#df-1d034f17-1baa-4864-9870-99f9d2dc7067 button.colab-df-convert');\n",
              "        buttonEl.style.display =\n",
              "          google.colab.kernel.accessAllowed ? 'block' : 'none';\n",
              "\n",
              "        async function convertToInteractive(key) {\n",
              "          const element = document.querySelector('#df-1d034f17-1baa-4864-9870-99f9d2dc7067');\n",
              "          const dataTable =\n",
              "            await google.colab.kernel.invokeFunction('convertToInteractive',\n",
              "                                                     [key], {});\n",
              "          if (!dataTable) return;\n",
              "\n",
              "          const docLinkHtml = 'Like what you see? Visit the ' +\n",
              "            '<a target=\"_blank\" href=https://colab.research.google.com/notebooks/data_table.ipynb>data table notebook</a>'\n",
              "            + ' to learn more about interactive tables.';\n",
              "          element.innerHTML = '';\n",
              "          dataTable['output_type'] = 'display_data';\n",
              "          await google.colab.output.renderOutput(dataTable, element);\n",
              "          const docLink = document.createElement('div');\n",
              "          docLink.innerHTML = docLinkHtml;\n",
              "          element.appendChild(docLink);\n",
              "        }\n",
              "      </script>\n",
              "    </div>\n",
              "  </div>\n",
              "  "
            ]
          },
          "metadata": {},
          "execution_count": 214
        }
      ]
    },
    {
      "cell_type": "code",
      "source": [],
      "metadata": {
        "id": "RU2jWelP1Xrj"
      },
      "execution_count": null,
      "outputs": []
    },
    {
      "cell_type": "code",
      "source": [],
      "metadata": {
        "id": "PZOXsMSp1Xnh"
      },
      "execution_count": null,
      "outputs": []
    },
    {
      "cell_type": "code",
      "source": [],
      "metadata": {
        "id": "XUbWPCzQ1Xkq"
      },
      "execution_count": null,
      "outputs": []
    },
    {
      "cell_type": "code",
      "source": [],
      "metadata": {
        "id": "6gL3Xu_61Xiu"
      },
      "execution_count": null,
      "outputs": []
    },
    {
      "cell_type": "code",
      "source": [],
      "metadata": {
        "id": "mqyQMEzm1Xgb"
      },
      "execution_count": null,
      "outputs": []
    },
    {
      "cell_type": "code",
      "source": [],
      "metadata": {
        "id": "hamy7HTP1Xdv"
      },
      "execution_count": null,
      "outputs": []
    },
    {
      "cell_type": "code",
      "source": [],
      "metadata": {
        "id": "9yQbODab1XbH"
      },
      "execution_count": null,
      "outputs": []
    },
    {
      "cell_type": "code",
      "source": [
        "data_3['all_speakers']"
      ],
      "metadata": {
        "colab": {
          "base_uri": "https://localhost:8080/"
        },
        "id": "KhYGlkLuNtFy",
        "outputId": "41d38825-63ad-43f9-d8bc-e739125183ab"
      },
      "execution_count": null,
      "outputs": [
        {
          "output_type": "execute_result",
          "data": {
            "text/plain": [
              "0                                    {0: 'Al Gore'}\n",
              "1                               {0: 'Hans Rosling'}\n",
              "2                                {0: 'David Pogue'}\n",
              "3                              {0: 'Majora Carter'}\n",
              "5                        {0: 'Joshua Prince-Ramus'}\n",
              "                           ...                     \n",
              "3994                       {0: 'Tom Rivett-Carnac'}\n",
              "3995                          {0: 'Oliver Jeffers'}\n",
              "3999    {0: 'Larry Brilliant', 1: 'Chris Anderson'}\n",
              "4000                            {0: 'Nancy Lublin'}\n",
              "4002                    {0: 'Dick M. Carpenter II'}\n",
              "Name: all_speakers, Length: 3237, dtype: object"
            ]
          },
          "metadata": {},
          "execution_count": 215
        }
      ]
    },
    {
      "cell_type": "code",
      "source": [],
      "metadata": {
        "id": "Bvsmsm_K5SXz"
      },
      "execution_count": null,
      "outputs": []
    },
    {
      "cell_type": "code",
      "source": [
        "data_3['occupations']"
      ],
      "metadata": {
        "colab": {
          "base_uri": "https://localhost:8080/"
        },
        "id": "m6Cp598bg0RS",
        "outputId": "9f48f740-e052-4701-9572-710ca1071912"
      },
      "execution_count": null,
      "outputs": [
        {
          "output_type": "execute_result",
          "data": {
            "text/plain": [
              "0                               {0: ['climate advocate']}\n",
              "1           {0: ['global health expert; data visionary']}\n",
              "2                           {0: ['technology columnist']}\n",
              "3             {0: ['activist for environmental justice']}\n",
              "5                                      {0: ['architect']}\n",
              "                              ...                        \n",
              "3994                        {0: ['political strategist']}\n",
              "3995                       {0: ['artist', 'storyteller']}\n",
              "3999    {0: ['epidemiologist', 'philanthropist'], 1: [...\n",
              "4000                             {0: ['health activist']}\n",
              "4002                              {0: ['law researcher']}\n",
              "Name: occupations, Length: 3237, dtype: object"
            ]
          },
          "metadata": {},
          "execution_count": 216
        }
      ]
    },
    {
      "cell_type": "code",
      "source": [
        "# Extracting all occupations\n",
        "import ast\n",
        "list_of_occupations=[]\n",
        "for ele in data_3['occupations'].iteritems():\n",
        "  for occ in ele:\n",
        "    if type(occ)!=int:\n",
        "        val=ast.literal_eval(occ)\n",
        "        for key in val: \n",
        "          list_of_occupations.append(val[key])\n",
        "list_of_occupations=[ele for list_ in list_of_occupations for ele in list_]"
      ],
      "metadata": {
        "id": "M99l-ZWc26ll"
      },
      "execution_count": null,
      "outputs": []
    },
    {
      "cell_type": "code",
      "source": [
        "len(list_of_occupations)"
      ],
      "metadata": {
        "colab": {
          "base_uri": "https://localhost:8080/"
        },
        "id": "6Wu9rqJ4FOLI",
        "outputId": "6a02b449-744f-448b-aff3-0ab92e00111f"
      },
      "execution_count": null,
      "outputs": [
        {
          "output_type": "execute_result",
          "data": {
            "text/plain": [
              "4214"
            ]
          },
          "metadata": {},
          "execution_count": 218
        }
      ]
    },
    {
      "cell_type": "code",
      "source": [
        "pd.Series(list_of_occupations).value_counts()"
      ],
      "metadata": {
        "colab": {
          "base_uri": "https://localhost:8080/"
        },
        "id": "RfArnDkF26hc",
        "outputId": "c136c61f-17a2-4c40-ceca-8b9876ee6838"
      },
      "execution_count": null,
      "outputs": [
        {
          "output_type": "execute_result",
          "data": {
            "text/plain": [
              "author                             145\n",
              "writer                             128\n",
              "entrepreneur                        99\n",
              "artist                              87\n",
              "activist                            76\n",
              "                                  ... \n",
              "yo-yo champion                       1\n",
              "neuroscientist and psychiatrist      1\n",
              "science historian                    1\n",
              "know-it-all                          1\n",
              "law researcher                       1\n",
              "Length: 1711, dtype: int64"
            ]
          },
          "metadata": {},
          "execution_count": 219
        }
      ]
    },
    {
      "cell_type": "code",
      "source": [],
      "metadata": {
        "id": "PiahVTjH26fm"
      },
      "execution_count": null,
      "outputs": []
    },
    {
      "cell_type": "code",
      "source": [],
      "metadata": {
        "id": "Uz3Cd0Dq26ce"
      },
      "execution_count": null,
      "outputs": []
    },
    {
      "cell_type": "code",
      "source": [],
      "metadata": {
        "id": "VuDpLVBl26YS"
      },
      "execution_count": null,
      "outputs": []
    },
    {
      "cell_type": "code",
      "source": [],
      "metadata": {
        "id": "NRpbQOrD26VQ"
      },
      "execution_count": null,
      "outputs": []
    },
    {
      "cell_type": "code",
      "source": [
        "data_3['about_speakers']"
      ],
      "metadata": {
        "colab": {
          "base_uri": "https://localhost:8080/"
        },
        "id": "nBWyJMImiyir",
        "outputId": "14d06ad6-90ba-4b39-80b3-67fcf40e2627"
      },
      "execution_count": null,
      "outputs": [
        {
          "output_type": "execute_result",
          "data": {
            "text/plain": [
              "0       {0: 'Nobel Laureate Al Gore focused the world’...\n",
              "1       {0: 'In Hans Rosling’s hands, data sings. Glob...\n",
              "2       {0: 'David Pogue is the personal technology co...\n",
              "3       {0: 'Majora Carter redefined the field of envi...\n",
              "5       {0: 'Joshua Prince-Ramus is best known as arch...\n",
              "                              ...                        \n",
              "3994    {0: 'A political strategist focused on creatin...\n",
              "3995    {0: 'With a style that crackles with wry wit, ...\n",
              "3999    {0: \"TED Prize winner Larry Brilliant has spen...\n",
              "4000    {0: 'Nancy Lublin, cofounder and CEO of Crisis...\n",
              "4002    {0: 'Dick M. Carpenter II studies cutting edge...\n",
              "Name: about_speakers, Length: 3237, dtype: object"
            ]
          },
          "metadata": {},
          "execution_count": 220
        }
      ]
    },
    {
      "cell_type": "code",
      "source": [],
      "metadata": {
        "id": "VrK30frijann"
      },
      "execution_count": null,
      "outputs": []
    }
  ]
}